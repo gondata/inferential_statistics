{
 "cells": [
  {
   "cell_type": "markdown",
   "id": "c2328c74",
   "metadata": {},
   "source": [
    "# Funciones de muestreo"
   ]
  },
  {
   "cell_type": "code",
   "execution_count": 71,
   "id": "4b02983c",
   "metadata": {},
   "outputs": [],
   "source": [
    "import pandas as pd\n",
    "import numpy as np\n",
    "import random"
   ]
  },
  {
   "cell_type": "code",
   "execution_count": 72,
   "id": "39eda59a",
   "metadata": {},
   "outputs": [
    {
     "data": {
      "text/html": [
       "<div>\n",
       "<style scoped>\n",
       "    .dataframe tbody tr th:only-of-type {\n",
       "        vertical-align: middle;\n",
       "    }\n",
       "\n",
       "    .dataframe tbody tr th {\n",
       "        vertical-align: top;\n",
       "    }\n",
       "\n",
       "    .dataframe thead th {\n",
       "        text-align: right;\n",
       "    }\n",
       "</style>\n",
       "<table border=\"1\" class=\"dataframe\">\n",
       "  <thead>\n",
       "    <tr style=\"text-align: right;\">\n",
       "      <th></th>\n",
       "      <th>id</th>\n",
       "      <th>geo_point_2d</th>\n",
       "      <th>geo_shape</th>\n",
       "      <th>clave_cat</th>\n",
       "      <th>delegacion</th>\n",
       "      <th>perimetro</th>\n",
       "      <th>tipo</th>\n",
       "      <th>nom_id</th>\n",
       "    </tr>\n",
       "  </thead>\n",
       "  <tbody>\n",
       "    <tr>\n",
       "      <th>0</th>\n",
       "      <td>0</td>\n",
       "      <td>19.424781053,-99.1327537959</td>\n",
       "      <td>{\"type\": \"Polygon\", \"coordinates\": [[[-99.1332...</td>\n",
       "      <td>307_130_11</td>\n",
       "      <td>Cuauhtémoc</td>\n",
       "      <td>B</td>\n",
       "      <td>Mercado</td>\n",
       "      <td>Pino Suárez</td>\n",
       "    </tr>\n",
       "    <tr>\n",
       "      <th>1</th>\n",
       "      <td>1</td>\n",
       "      <td>19.4346139576,-99.1413808393</td>\n",
       "      <td>{\"type\": \"MultiPoint\", \"coordinates\": [[-99.14...</td>\n",
       "      <td>002_008_01</td>\n",
       "      <td>Cuautémoc</td>\n",
       "      <td>A</td>\n",
       "      <td>Museo</td>\n",
       "      <td>Museo Nacional de Arquitectura Palacio de Bell...</td>\n",
       "    </tr>\n",
       "    <tr>\n",
       "      <th>2</th>\n",
       "      <td>2</td>\n",
       "      <td>19.4340695945,-99.1306348409</td>\n",
       "      <td>{\"type\": \"MultiPoint\", \"coordinates\": [[-99.13...</td>\n",
       "      <td>006_002_12</td>\n",
       "      <td>Cuautémoc</td>\n",
       "      <td>A</td>\n",
       "      <td>Museo</td>\n",
       "      <td>Santa Teresa</td>\n",
       "    </tr>\n",
       "    <tr>\n",
       "      <th>3</th>\n",
       "      <td>3</td>\n",
       "      <td>19.42489472,-99.12073393</td>\n",
       "      <td>{\"type\": \"MultiPoint\", \"coordinates\": [[-99.12...</td>\n",
       "      <td>323_102_06</td>\n",
       "      <td>Venustiano Carranza</td>\n",
       "      <td>B</td>\n",
       "      <td>Hotel</td>\n",
       "      <td>Balbuena</td>\n",
       "    </tr>\n",
       "    <tr>\n",
       "      <th>4</th>\n",
       "      <td>4</td>\n",
       "      <td>19.42358238,-99.12451093</td>\n",
       "      <td>{\"type\": \"MultiPoint\", \"coordinates\": [[-99.12...</td>\n",
       "      <td>323_115_12</td>\n",
       "      <td>Venustiano Carranza</td>\n",
       "      <td>B</td>\n",
       "      <td>Hotel</td>\n",
       "      <td>real</td>\n",
       "    </tr>\n",
       "  </tbody>\n",
       "</table>\n",
       "</div>"
      ],
      "text/plain": [
       "   id                  geo_point_2d  \\\n",
       "0   0   19.424781053,-99.1327537959   \n",
       "1   1  19.4346139576,-99.1413808393   \n",
       "2   2  19.4340695945,-99.1306348409   \n",
       "3   3      19.42489472,-99.12073393   \n",
       "4   4      19.42358238,-99.12451093   \n",
       "\n",
       "                                           geo_shape   clave_cat  \\\n",
       "0  {\"type\": \"Polygon\", \"coordinates\": [[[-99.1332...  307_130_11   \n",
       "1  {\"type\": \"MultiPoint\", \"coordinates\": [[-99.14...  002_008_01   \n",
       "2  {\"type\": \"MultiPoint\", \"coordinates\": [[-99.13...  006_002_12   \n",
       "3  {\"type\": \"MultiPoint\", \"coordinates\": [[-99.12...  323_102_06   \n",
       "4  {\"type\": \"MultiPoint\", \"coordinates\": [[-99.12...  323_115_12   \n",
       "\n",
       "            delegacion perimetro     tipo  \\\n",
       "0           Cuauhtémoc         B  Mercado   \n",
       "1            Cuautémoc         A    Museo   \n",
       "2            Cuautémoc         A    Museo   \n",
       "3  Venustiano Carranza         B    Hotel   \n",
       "4  Venustiano Carranza         B    Hotel   \n",
       "\n",
       "                                              nom_id  \n",
       "0                                        Pino Suárez  \n",
       "1  Museo Nacional de Arquitectura Palacio de Bell...  \n",
       "2                                       Santa Teresa  \n",
       "3                                           Balbuena  \n",
       "4                                               real  "
      ]
     },
     "execution_count": 72,
     "metadata": {},
     "output_type": "execute_result"
    }
   ],
   "source": [
    "df = pd.read_csv('economia-y-turismo-en-el-centro-historico.csv')\n",
    "df.head()"
   ]
  },
  {
   "cell_type": "markdown",
   "id": "fb823edf",
   "metadata": {},
   "source": [
    "## Muestreo aleatorio simple"
   ]
  },
  {
   "cell_type": "code",
   "execution_count": 73,
   "id": "d81912b7",
   "metadata": {},
   "outputs": [
    {
     "data": {
      "text/html": [
       "<div>\n",
       "<style scoped>\n",
       "    .dataframe tbody tr th:only-of-type {\n",
       "        vertical-align: middle;\n",
       "    }\n",
       "\n",
       "    .dataframe tbody tr th {\n",
       "        vertical-align: top;\n",
       "    }\n",
       "\n",
       "    .dataframe thead th {\n",
       "        text-align: right;\n",
       "    }\n",
       "</style>\n",
       "<table border=\"1\" class=\"dataframe\">\n",
       "  <thead>\n",
       "    <tr style=\"text-align: right;\">\n",
       "      <th></th>\n",
       "      <th>id</th>\n",
       "      <th>geo_point_2d</th>\n",
       "      <th>geo_shape</th>\n",
       "      <th>clave_cat</th>\n",
       "      <th>delegacion</th>\n",
       "      <th>perimetro</th>\n",
       "      <th>tipo</th>\n",
       "      <th>nom_id</th>\n",
       "    </tr>\n",
       "  </thead>\n",
       "  <tbody>\n",
       "    <tr>\n",
       "      <th>208</th>\n",
       "      <td>208</td>\n",
       "      <td>19.423857491,-99.1225572301</td>\n",
       "      <td>{\"type\": \"MultiPoint\", \"coordinates\": [[-99.12...</td>\n",
       "      <td>323_108_11</td>\n",
       "      <td>Venustiano Carranza</td>\n",
       "      <td>B</td>\n",
       "      <td>Hotel</td>\n",
       "      <td>Juárez</td>\n",
       "    </tr>\n",
       "    <tr>\n",
       "      <th>21</th>\n",
       "      <td>21</td>\n",
       "      <td>19.43614459,-99.13945267</td>\n",
       "      <td>{\"type\": \"MultiPoint\", \"coordinates\": [[-99.13...</td>\n",
       "      <td>004_098_01</td>\n",
       "      <td>Cuautémoc</td>\n",
       "      <td>A</td>\n",
       "      <td>Museo</td>\n",
       "      <td>Telégrafo</td>\n",
       "    </tr>\n",
       "    <tr>\n",
       "      <th>38</th>\n",
       "      <td>38</td>\n",
       "      <td>19.4439555857,-99.1345196425</td>\n",
       "      <td>{\"type\": \"Polygon\", \"coordinates\": [[[-99.1351...</td>\n",
       "      <td>004_106_01</td>\n",
       "      <td>Cuauhtémoc</td>\n",
       "      <td>B</td>\n",
       "      <td>Mercado</td>\n",
       "      <td>La Lagunilla Comestibles</td>\n",
       "    </tr>\n",
       "    <tr>\n",
       "      <th>100</th>\n",
       "      <td>100</td>\n",
       "      <td>19.4337759404,-99.1378211234</td>\n",
       "      <td>{\"type\": \"MultiPoint\", \"coordinates\": [[-99.13...</td>\n",
       "      <td>001_014_06</td>\n",
       "      <td>Cuautémoc</td>\n",
       "      <td>A</td>\n",
       "      <td>Hotel</td>\n",
       "      <td>Ritz Ciudada de México</td>\n",
       "    </tr>\n",
       "    <tr>\n",
       "      <th>122</th>\n",
       "      <td>122</td>\n",
       "      <td>19.4328655483,-99.1385210348</td>\n",
       "      <td>{\"type\": \"MultiPoint\", \"coordinates\": [[-99.13...</td>\n",
       "      <td>001_020_04</td>\n",
       "      <td>Cuautémoc</td>\n",
       "      <td>A</td>\n",
       "      <td>Hotel</td>\n",
       "      <td>Principal</td>\n",
       "    </tr>\n",
       "    <tr>\n",
       "      <th>229</th>\n",
       "      <td>229</td>\n",
       "      <td>19.4346765421,-99.1318394918</td>\n",
       "      <td>{\"type\": \"MultiPoint\", \"coordinates\": [[-99.13...</td>\n",
       "      <td>005_145_14</td>\n",
       "      <td>Cuautémoc</td>\n",
       "      <td>A</td>\n",
       "      <td>Museo</td>\n",
       "      <td>Templo Mayor</td>\n",
       "    </tr>\n",
       "    <tr>\n",
       "      <th>215</th>\n",
       "      <td>215</td>\n",
       "      <td>19.4383767258,-99.1331865203</td>\n",
       "      <td>{\"type\": \"MultiPoint\", \"coordinates\": [[-99.13...</td>\n",
       "      <td>004_082_16</td>\n",
       "      <td>Cuautémoc</td>\n",
       "      <td>A</td>\n",
       "      <td>Hotel</td>\n",
       "      <td>La Fontelina , S.A. DE C.V.</td>\n",
       "    </tr>\n",
       "    <tr>\n",
       "      <th>103</th>\n",
       "      <td>103</td>\n",
       "      <td>19.4370810464,-99.1361494106</td>\n",
       "      <td>{\"type\": \"MultiPoint\", \"coordinates\": [[-99.13...</td>\n",
       "      <td>004_091_27</td>\n",
       "      <td>Cuautémoc</td>\n",
       "      <td>A</td>\n",
       "      <td>Hotel</td>\n",
       "      <td>Cuba</td>\n",
       "    </tr>\n",
       "  </tbody>\n",
       "</table>\n",
       "</div>"
      ],
      "text/plain": [
       "      id                  geo_point_2d  \\\n",
       "208  208   19.423857491,-99.1225572301   \n",
       "21    21      19.43614459,-99.13945267   \n",
       "38    38  19.4439555857,-99.1345196425   \n",
       "100  100  19.4337759404,-99.1378211234   \n",
       "122  122  19.4328655483,-99.1385210348   \n",
       "229  229  19.4346765421,-99.1318394918   \n",
       "215  215  19.4383767258,-99.1331865203   \n",
       "103  103  19.4370810464,-99.1361494106   \n",
       "\n",
       "                                             geo_shape   clave_cat  \\\n",
       "208  {\"type\": \"MultiPoint\", \"coordinates\": [[-99.12...  323_108_11   \n",
       "21   {\"type\": \"MultiPoint\", \"coordinates\": [[-99.13...  004_098_01   \n",
       "38   {\"type\": \"Polygon\", \"coordinates\": [[[-99.1351...  004_106_01   \n",
       "100  {\"type\": \"MultiPoint\", \"coordinates\": [[-99.13...  001_014_06   \n",
       "122  {\"type\": \"MultiPoint\", \"coordinates\": [[-99.13...  001_020_04   \n",
       "229  {\"type\": \"MultiPoint\", \"coordinates\": [[-99.13...  005_145_14   \n",
       "215  {\"type\": \"MultiPoint\", \"coordinates\": [[-99.13...  004_082_16   \n",
       "103  {\"type\": \"MultiPoint\", \"coordinates\": [[-99.13...  004_091_27   \n",
       "\n",
       "              delegacion perimetro     tipo                       nom_id  \n",
       "208  Venustiano Carranza         B    Hotel                       Juárez  \n",
       "21             Cuautémoc         A    Museo                    Telégrafo  \n",
       "38            Cuauhtémoc         B  Mercado     La Lagunilla Comestibles  \n",
       "100            Cuautémoc         A    Hotel       Ritz Ciudada de México  \n",
       "122            Cuautémoc         A    Hotel                    Principal  \n",
       "229            Cuautémoc         A    Museo                 Templo Mayor  \n",
       "215            Cuautémoc         A    Hotel  La Fontelina , S.A. DE C.V.  \n",
       "103            Cuautémoc         A    Hotel                         Cuba  "
      ]
     },
     "execution_count": 73,
     "metadata": {},
     "output_type": "execute_result"
    }
   ],
   "source": [
    "aleat = df.sample(n=8) #con sample(8) elijo una muestra aleatoria de 8\n",
    "aleat"
   ]
  },
  {
   "cell_type": "code",
   "execution_count": 74,
   "id": "5038b702",
   "metadata": {},
   "outputs": [
    {
     "data": {
      "text/html": [
       "<div>\n",
       "<style scoped>\n",
       "    .dataframe tbody tr th:only-of-type {\n",
       "        vertical-align: middle;\n",
       "    }\n",
       "\n",
       "    .dataframe tbody tr th {\n",
       "        vertical-align: top;\n",
       "    }\n",
       "\n",
       "    .dataframe thead th {\n",
       "        text-align: right;\n",
       "    }\n",
       "</style>\n",
       "<table border=\"1\" class=\"dataframe\">\n",
       "  <thead>\n",
       "    <tr style=\"text-align: right;\">\n",
       "      <th></th>\n",
       "      <th>id</th>\n",
       "      <th>geo_point_2d</th>\n",
       "      <th>geo_shape</th>\n",
       "      <th>clave_cat</th>\n",
       "      <th>delegacion</th>\n",
       "      <th>perimetro</th>\n",
       "      <th>tipo</th>\n",
       "      <th>nom_id</th>\n",
       "    </tr>\n",
       "  </thead>\n",
       "  <tbody>\n",
       "    <tr>\n",
       "      <th>208</th>\n",
       "      <td>208</td>\n",
       "      <td>19.423857491,-99.1225572301</td>\n",
       "      <td>{\"type\": \"MultiPoint\", \"coordinates\": [[-99.12...</td>\n",
       "      <td>323_108_11</td>\n",
       "      <td>Venustiano Carranza</td>\n",
       "      <td>B</td>\n",
       "      <td>Hotel</td>\n",
       "      <td>Juárez</td>\n",
       "    </tr>\n",
       "    <tr>\n",
       "      <th>150</th>\n",
       "      <td>150</td>\n",
       "      <td>19.440448428,-99.1365429261</td>\n",
       "      <td>{\"type\": \"MultiPoint\", \"coordinates\": [[-99.13...</td>\n",
       "      <td>004_065_10</td>\n",
       "      <td>Cuautémoc</td>\n",
       "      <td>B</td>\n",
       "      <td>Hotel</td>\n",
       "      <td>Moderno</td>\n",
       "    </tr>\n",
       "    <tr>\n",
       "      <th>13</th>\n",
       "      <td>13</td>\n",
       "      <td>19.43878785,-99.1490443182</td>\n",
       "      <td>{\"type\": \"MultiPoint\", \"coordinates\": [[-99.14...</td>\n",
       "      <td>012_147_02</td>\n",
       "      <td>Cuautémoc</td>\n",
       "      <td>B</td>\n",
       "      <td>Hotel</td>\n",
       "      <td>Monaco</td>\n",
       "    </tr>\n",
       "    <tr>\n",
       "      <th>157</th>\n",
       "      <td>157</td>\n",
       "      <td>19.4272935771,-99.1227492994</td>\n",
       "      <td>{\"type\": \"Polygon\", \"coordinates\": [[[-99.1230...</td>\n",
       "      <td>323_063_08</td>\n",
       "      <td>Venustiano Carranza</td>\n",
       "      <td>B</td>\n",
       "      <td>Mercado</td>\n",
       "      <td>Merced Comidas</td>\n",
       "    </tr>\n",
       "    <tr>\n",
       "      <th>125</th>\n",
       "      <td>125</td>\n",
       "      <td>19.4342350395,-99.1354548065</td>\n",
       "      <td>{\"type\": \"MultiPoint\", \"coordinates\": [[-99.13...</td>\n",
       "      <td>001_007_06</td>\n",
       "      <td>Cuautémoc</td>\n",
       "      <td>A</td>\n",
       "      <td>Hotel</td>\n",
       "      <td>Zamora</td>\n",
       "    </tr>\n",
       "  </tbody>\n",
       "</table>\n",
       "</div>"
      ],
      "text/plain": [
       "      id                  geo_point_2d  \\\n",
       "208  208   19.423857491,-99.1225572301   \n",
       "150  150   19.440448428,-99.1365429261   \n",
       "13    13    19.43878785,-99.1490443182   \n",
       "157  157  19.4272935771,-99.1227492994   \n",
       "125  125  19.4342350395,-99.1354548065   \n",
       "\n",
       "                                             geo_shape   clave_cat  \\\n",
       "208  {\"type\": \"MultiPoint\", \"coordinates\": [[-99.12...  323_108_11   \n",
       "150  {\"type\": \"MultiPoint\", \"coordinates\": [[-99.13...  004_065_10   \n",
       "13   {\"type\": \"MultiPoint\", \"coordinates\": [[-99.14...  012_147_02   \n",
       "157  {\"type\": \"Polygon\", \"coordinates\": [[[-99.1230...  323_063_08   \n",
       "125  {\"type\": \"MultiPoint\", \"coordinates\": [[-99.13...  001_007_06   \n",
       "\n",
       "              delegacion perimetro     tipo          nom_id  \n",
       "208  Venustiano Carranza         B    Hotel          Juárez  \n",
       "150            Cuautémoc         B    Hotel         Moderno  \n",
       "13             Cuautémoc         B    Hotel          Monaco  \n",
       "157  Venustiano Carranza         B  Mercado  Merced Comidas  \n",
       "125            Cuautémoc         A    Hotel          Zamora  "
      ]
     },
     "execution_count": 74,
     "metadata": {},
     "output_type": "execute_result"
    }
   ],
   "source": [
    "prop_25 = df.sample(frac=.25) #Muestra aleatoria de tamaño del 25%\n",
    "prop_25.head()"
   ]
  },
  {
   "cell_type": "markdown",
   "id": "7486aa95",
   "metadata": {},
   "source": [
    "## Muestreo sistemático"
   ]
  },
  {
   "cell_type": "code",
   "execution_count": 75,
   "id": "fc5c4977",
   "metadata": {},
   "outputs": [
    {
     "data": {
      "text/html": [
       "<div>\n",
       "<style scoped>\n",
       "    .dataframe tbody tr th:only-of-type {\n",
       "        vertical-align: middle;\n",
       "    }\n",
       "\n",
       "    .dataframe tbody tr th {\n",
       "        vertical-align: top;\n",
       "    }\n",
       "\n",
       "    .dataframe thead th {\n",
       "        text-align: right;\n",
       "    }\n",
       "</style>\n",
       "<table border=\"1\" class=\"dataframe\">\n",
       "  <thead>\n",
       "    <tr style=\"text-align: right;\">\n",
       "      <th></th>\n",
       "      <th>id</th>\n",
       "      <th>geo_point_2d</th>\n",
       "      <th>geo_shape</th>\n",
       "      <th>clave_cat</th>\n",
       "      <th>delegacion</th>\n",
       "      <th>perimetro</th>\n",
       "      <th>tipo</th>\n",
       "      <th>nom_id</th>\n",
       "    </tr>\n",
       "  </thead>\n",
       "  <tbody>\n",
       "    <tr>\n",
       "      <th>0</th>\n",
       "      <td>0</td>\n",
       "      <td>19.424781053,-99.1327537959</td>\n",
       "      <td>{\"type\": \"Polygon\", \"coordinates\": [[[-99.1332...</td>\n",
       "      <td>307_130_11</td>\n",
       "      <td>Cuauhtémoc</td>\n",
       "      <td>B</td>\n",
       "      <td>Mercado</td>\n",
       "      <td>Pino Suárez</td>\n",
       "    </tr>\n",
       "    <tr>\n",
       "      <th>5</th>\n",
       "      <td>5</td>\n",
       "      <td>19.4263287068,-99.1207277209</td>\n",
       "      <td>{\"type\": \"MultiPoint\", \"coordinates\": [[-99.12...</td>\n",
       "      <td>323_161_11</td>\n",
       "      <td>Venustiano Carranza</td>\n",
       "      <td>B</td>\n",
       "      <td>Hotel</td>\n",
       "      <td>Baño San Tiago</td>\n",
       "    </tr>\n",
       "    <tr>\n",
       "      <th>10</th>\n",
       "      <td>10</td>\n",
       "      <td>19.4441424478,-99.14600807</td>\n",
       "      <td>{\"type\": \"MultiPoint\", \"coordinates\": [[-99.14...</td>\n",
       "      <td>003_048_10</td>\n",
       "      <td>Cuautémoc</td>\n",
       "      <td>B</td>\n",
       "      <td>Hotel</td>\n",
       "      <td>Moctezuma</td>\n",
       "    </tr>\n",
       "    <tr>\n",
       "      <th>15</th>\n",
       "      <td>15</td>\n",
       "      <td>19.42413788,-99.1324515</td>\n",
       "      <td>{\"type\": \"MultiPoint\", \"coordinates\": [[-99.13...</td>\n",
       "      <td>307_153_11</td>\n",
       "      <td>Cuautémoc</td>\n",
       "      <td>B</td>\n",
       "      <td>Hotel</td>\n",
       "      <td>San Lucas</td>\n",
       "    </tr>\n",
       "    <tr>\n",
       "      <th>20</th>\n",
       "      <td>20</td>\n",
       "      <td>19.4357307042,-99.1326583218</td>\n",
       "      <td>{\"type\": \"MultiPoint\", \"coordinates\": [[-99.13...</td>\n",
       "      <td>004_098_26</td>\n",
       "      <td>Cuautémoc</td>\n",
       "      <td>A</td>\n",
       "      <td>Museo</td>\n",
       "      <td>La Caricatura</td>\n",
       "    </tr>\n",
       "  </tbody>\n",
       "</table>\n",
       "</div>"
      ],
      "text/plain": [
       "    id                  geo_point_2d  \\\n",
       "0    0   19.424781053,-99.1327537959   \n",
       "5    5  19.4263287068,-99.1207277209   \n",
       "10  10    19.4441424478,-99.14600807   \n",
       "15  15       19.42413788,-99.1324515   \n",
       "20  20  19.4357307042,-99.1326583218   \n",
       "\n",
       "                                            geo_shape   clave_cat  \\\n",
       "0   {\"type\": \"Polygon\", \"coordinates\": [[[-99.1332...  307_130_11   \n",
       "5   {\"type\": \"MultiPoint\", \"coordinates\": [[-99.12...  323_161_11   \n",
       "10  {\"type\": \"MultiPoint\", \"coordinates\": [[-99.14...  003_048_10   \n",
       "15  {\"type\": \"MultiPoint\", \"coordinates\": [[-99.13...  307_153_11   \n",
       "20  {\"type\": \"MultiPoint\", \"coordinates\": [[-99.13...  004_098_26   \n",
       "\n",
       "             delegacion perimetro     tipo          nom_id  \n",
       "0            Cuauhtémoc         B  Mercado     Pino Suárez  \n",
       "5   Venustiano Carranza         B    Hotel  Baño San Tiago  \n",
       "10            Cuautémoc         B    Hotel       Moctezuma  \n",
       "15            Cuautémoc         B    Hotel       San Lucas  \n",
       "20            Cuautémoc         A    Museo   La Caricatura  "
      ]
     },
     "execution_count": 75,
     "metadata": {},
     "output_type": "execute_result"
    }
   ],
   "source": [
    "def systematic_sampling(df, step):\n",
    "    indexes = np.arange(0, len(df), step=step)\n",
    "    systematic_sample = df.iloc[indexes]\n",
    "    return systematic_sample\n",
    "\n",
    "systematic_sample = systematic_sampling(df, 5)\n",
    "systematic_sample.head()"
   ]
  },
  {
   "cell_type": "markdown",
   "id": "25168377",
   "metadata": {},
   "source": [
    "## Muestreo Estratificado"
   ]
  },
  {
   "cell_type": "code",
   "execution_count": 76,
   "id": "ae08202b",
   "metadata": {},
   "outputs": [
    {
     "data": {
      "text/plain": [
       "Cuautémoc, Hotel                0.643478\n",
       "Cuautémoc, Museo                0.156522\n",
       "Venustiano Carranza, Hotel      0.078261\n",
       "Cuauhtémoc, Mercado             0.073913\n",
       "Venustiano Carranza, Mercado    0.047826\n",
       "Name: estratificado, dtype: float64"
      ]
     },
     "execution_count": 76,
     "metadata": {},
     "output_type": "execute_result"
    }
   ],
   "source": [
    "df['estratificado'] = df['delegacion'] + \", \" + df['tipo']\n",
    "(df['estratificado'].value_counts()/len(df)).sort_values(ascending=False)"
   ]
  },
  {
   "cell_type": "markdown",
   "id": "8b6211b8",
   "metadata": {},
   "source": [
    "Si nuestros datos son diferentes y sabemos que la proporción es la siguiente:\n",
    "\n",
    "Hoteles en Cuauhtémoc es de 0.5\n",
    "\n",
    "Museos en Cuauhtémoc es de 0.2\n",
    "\n",
    "Hoteles en Venuestiano Carranza es de 0.1\n",
    "\n",
    "Mercados en Cuauhtémoc es de 0.1\n",
    "\n",
    "Mercados en Venuestiano Carranza es de 0.1"
   ]
  },
  {
   "cell_type": "code",
   "execution_count": 77,
   "id": "3969e7f4",
   "metadata": {},
   "outputs": [],
   "source": [
    "def data_estratificada(df, name_column_estrat, values_estrat, prop_estrat, random_state=None):\n",
    "    df_estrat = pd.DataFrame(columns= df.columns) # Creamos un data frame vacío con los nombres de las columnas de df principal\n",
    "\n",
    "    pos = -1\n",
    "    for i in range(len(values_estrat)): #iteramos sobre los valores estratificados\n",
    "        pos+=1\n",
    "        if pos == len(values_estrat) -1 :\n",
    "            ratio_len = len(df) - len(df_estrat) # si es la iteración final calcula el número de valores de salida tenga el mismo número de filas que de entrada\n",
    "        else:\n",
    "            ratio_len = int(len(df) * prop_estrat[i]) # calcula el número de filas según la proporción deseada\n",
    "\n",
    "        df_filtrado = df[df[name_column_estrat] == values_estrat[i]] # filtra los datos de origen según los valores seleccionados en la estratificación de datos\n",
    "        df_temp = df_filtrado.sample(replace=True, n=ratio_len, random_state=random_state) # se hace un sample de los datos filtrados usando la ratio que hemos calculado\n",
    "        df_estrat = pd.concat([df_estrat, df_temp]) # junta las tablas de sample con la estratificada para producir el resultado final\n",
    "\n",
    "    return df_estrat # Return the stratified, re-sampled data"
   ]
  },
  {
   "cell_type": "code",
   "execution_count": 78,
   "id": "8d1037f8",
   "metadata": {},
   "outputs": [
    {
     "data": {
      "text/html": [
       "<div>\n",
       "<style scoped>\n",
       "    .dataframe tbody tr th:only-of-type {\n",
       "        vertical-align: middle;\n",
       "    }\n",
       "\n",
       "    .dataframe tbody tr th {\n",
       "        vertical-align: top;\n",
       "    }\n",
       "\n",
       "    .dataframe thead th {\n",
       "        text-align: right;\n",
       "    }\n",
       "</style>\n",
       "<table border=\"1\" class=\"dataframe\">\n",
       "  <thead>\n",
       "    <tr style=\"text-align: right;\">\n",
       "      <th></th>\n",
       "      <th>id</th>\n",
       "      <th>geo_point_2d</th>\n",
       "      <th>geo_shape</th>\n",
       "      <th>clave_cat</th>\n",
       "      <th>delegacion</th>\n",
       "      <th>perimetro</th>\n",
       "      <th>tipo</th>\n",
       "      <th>nom_id</th>\n",
       "      <th>estratificado</th>\n",
       "    </tr>\n",
       "  </thead>\n",
       "  <tbody>\n",
       "    <tr>\n",
       "      <th>164</th>\n",
       "      <td>164</td>\n",
       "      <td>19.4388741511,-99.1413308257</td>\n",
       "      <td>{\"type\": \"MultiPoint\", \"coordinates\": [[-99.14...</td>\n",
       "      <td>003_113_03</td>\n",
       "      <td>Cuautémoc</td>\n",
       "      <td>B</td>\n",
       "      <td>Hotel</td>\n",
       "      <td>Dos Naciones</td>\n",
       "      <td>Cuautémoc, Hotel</td>\n",
       "    </tr>\n",
       "    <tr>\n",
       "      <th>142</th>\n",
       "      <td>142</td>\n",
       "      <td>19.4263681354,-99.1327278126</td>\n",
       "      <td>{\"type\": \"MultiPoint\", \"coordinates\": [[-99.13...</td>\n",
       "      <td>006_127_14</td>\n",
       "      <td>Cuautémoc</td>\n",
       "      <td>A</td>\n",
       "      <td>Hotel</td>\n",
       "      <td>Ambar</td>\n",
       "      <td>Cuautémoc, Hotel</td>\n",
       "    </tr>\n",
       "    <tr>\n",
       "      <th>27</th>\n",
       "      <td>27</td>\n",
       "      <td>19.4348360773,-99.1463945583</td>\n",
       "      <td>{\"type\": \"MultiPoint\", \"coordinates\": [[-99.14...</td>\n",
       "      <td>002_016_01</td>\n",
       "      <td>Cuautémoc</td>\n",
       "      <td>B</td>\n",
       "      <td>Hotel</td>\n",
       "      <td>Hilton Centro Histórico</td>\n",
       "      <td>Cuautémoc, Hotel</td>\n",
       "    </tr>\n",
       "    <tr>\n",
       "      <th>168</th>\n",
       "      <td>168</td>\n",
       "      <td>19.4349726565,-99.147766133</td>\n",
       "      <td>{\"type\": \"MultiPoint\", \"coordinates\": [[-99.14...</td>\n",
       "      <td>002_014_23</td>\n",
       "      <td>Cuautémoc</td>\n",
       "      <td>B</td>\n",
       "      <td>Hotel</td>\n",
       "      <td>One Alameda</td>\n",
       "      <td>Cuautémoc, Hotel</td>\n",
       "    </tr>\n",
       "    <tr>\n",
       "      <th>113</th>\n",
       "      <td>113</td>\n",
       "      <td>19.43374405,-99.13550135</td>\n",
       "      <td>{\"type\": \"MultiPoint\", \"coordinates\": [[-99.13...</td>\n",
       "      <td>001_012_13</td>\n",
       "      <td>Cuautémoc</td>\n",
       "      <td>A</td>\n",
       "      <td>Hotel</td>\n",
       "      <td>San Antonio</td>\n",
       "      <td>Cuautémoc, Hotel</td>\n",
       "    </tr>\n",
       "    <tr>\n",
       "      <th>...</th>\n",
       "      <td>...</td>\n",
       "      <td>...</td>\n",
       "      <td>...</td>\n",
       "      <td>...</td>\n",
       "      <td>...</td>\n",
       "      <td>...</td>\n",
       "      <td>...</td>\n",
       "      <td>...</td>\n",
       "      <td>...</td>\n",
       "    </tr>\n",
       "    <tr>\n",
       "      <th>128</th>\n",
       "      <td>128</td>\n",
       "      <td>19.4270781084,-99.1210175514</td>\n",
       "      <td>{\"type\": \"Polygon\", \"coordinates\": [[[-99.1214...</td>\n",
       "      <td>323_061_04(123)</td>\n",
       "      <td>Venustiano Carranza</td>\n",
       "      <td>B</td>\n",
       "      <td>Mercado</td>\n",
       "      <td>San Ciprian</td>\n",
       "      <td>Venustiano Carranza, Mercado</td>\n",
       "    </tr>\n",
       "    <tr>\n",
       "      <th>37</th>\n",
       "      <td>37</td>\n",
       "      <td>19.4271233834,-99.125111772</td>\n",
       "      <td>{\"type\": \"Polygon\", \"coordinates\": [[[-99.1251...</td>\n",
       "      <td>323_065_01</td>\n",
       "      <td>Venustiano Carranza</td>\n",
       "      <td>B</td>\n",
       "      <td>Mercado</td>\n",
       "      <td>Dulceria</td>\n",
       "      <td>Venustiano Carranza, Mercado</td>\n",
       "    </tr>\n",
       "    <tr>\n",
       "      <th>163</th>\n",
       "      <td>163</td>\n",
       "      <td>19.4265454033,-99.1224859032</td>\n",
       "      <td>{\"type\": \"Polygon\", \"coordinates\": [[[-99.1231...</td>\n",
       "      <td>323_063_05</td>\n",
       "      <td>Venustiano Carranza</td>\n",
       "      <td>B</td>\n",
       "      <td>Mercado</td>\n",
       "      <td>NaN</td>\n",
       "      <td>Venustiano Carranza, Mercado</td>\n",
       "    </tr>\n",
       "    <tr>\n",
       "      <th>156</th>\n",
       "      <td>156</td>\n",
       "      <td>19.4255480371,-99.1249308096</td>\n",
       "      <td>{\"type\": \"Polygon\", \"coordinates\": [[[-99.1253...</td>\n",
       "      <td>323_138_04 (3)</td>\n",
       "      <td>Venustiano Carranza</td>\n",
       "      <td>B</td>\n",
       "      <td>Mercado</td>\n",
       "      <td>Mariscos</td>\n",
       "      <td>Venustiano Carranza, Mercado</td>\n",
       "    </tr>\n",
       "    <tr>\n",
       "      <th>37</th>\n",
       "      <td>37</td>\n",
       "      <td>19.4271233834,-99.125111772</td>\n",
       "      <td>{\"type\": \"Polygon\", \"coordinates\": [[[-99.1251...</td>\n",
       "      <td>323_065_01</td>\n",
       "      <td>Venustiano Carranza</td>\n",
       "      <td>B</td>\n",
       "      <td>Mercado</td>\n",
       "      <td>Dulceria</td>\n",
       "      <td>Venustiano Carranza, Mercado</td>\n",
       "    </tr>\n",
       "  </tbody>\n",
       "</table>\n",
       "<p>230 rows × 9 columns</p>\n",
       "</div>"
      ],
      "text/plain": [
       "      id                  geo_point_2d  \\\n",
       "164  164  19.4388741511,-99.1413308257   \n",
       "142  142  19.4263681354,-99.1327278126   \n",
       "27    27  19.4348360773,-99.1463945583   \n",
       "168  168   19.4349726565,-99.147766133   \n",
       "113  113      19.43374405,-99.13550135   \n",
       "..   ...                           ...   \n",
       "128  128  19.4270781084,-99.1210175514   \n",
       "37    37   19.4271233834,-99.125111772   \n",
       "163  163  19.4265454033,-99.1224859032   \n",
       "156  156  19.4255480371,-99.1249308096   \n",
       "37    37   19.4271233834,-99.125111772   \n",
       "\n",
       "                                             geo_shape        clave_cat  \\\n",
       "164  {\"type\": \"MultiPoint\", \"coordinates\": [[-99.14...       003_113_03   \n",
       "142  {\"type\": \"MultiPoint\", \"coordinates\": [[-99.13...       006_127_14   \n",
       "27   {\"type\": \"MultiPoint\", \"coordinates\": [[-99.14...       002_016_01   \n",
       "168  {\"type\": \"MultiPoint\", \"coordinates\": [[-99.14...       002_014_23   \n",
       "113  {\"type\": \"MultiPoint\", \"coordinates\": [[-99.13...       001_012_13   \n",
       "..                                                 ...              ...   \n",
       "128  {\"type\": \"Polygon\", \"coordinates\": [[[-99.1214...  323_061_04(123)   \n",
       "37   {\"type\": \"Polygon\", \"coordinates\": [[[-99.1251...       323_065_01   \n",
       "163  {\"type\": \"Polygon\", \"coordinates\": [[[-99.1231...       323_063_05   \n",
       "156  {\"type\": \"Polygon\", \"coordinates\": [[[-99.1253...   323_138_04 (3)   \n",
       "37   {\"type\": \"Polygon\", \"coordinates\": [[[-99.1251...       323_065_01   \n",
       "\n",
       "              delegacion perimetro     tipo                   nom_id  \\\n",
       "164            Cuautémoc         B    Hotel             Dos Naciones   \n",
       "142            Cuautémoc         A    Hotel                    Ambar   \n",
       "27             Cuautémoc         B    Hotel  Hilton Centro Histórico   \n",
       "168            Cuautémoc         B    Hotel              One Alameda   \n",
       "113            Cuautémoc         A    Hotel              San Antonio   \n",
       "..                   ...       ...      ...                      ...   \n",
       "128  Venustiano Carranza         B  Mercado              San Ciprian   \n",
       "37   Venustiano Carranza         B  Mercado                 Dulceria   \n",
       "163  Venustiano Carranza         B  Mercado                      NaN   \n",
       "156  Venustiano Carranza         B  Mercado                 Mariscos   \n",
       "37   Venustiano Carranza         B  Mercado                 Dulceria   \n",
       "\n",
       "                    estratificado  \n",
       "164              Cuautémoc, Hotel  \n",
       "142              Cuautémoc, Hotel  \n",
       "27               Cuautémoc, Hotel  \n",
       "168              Cuautémoc, Hotel  \n",
       "113              Cuautémoc, Hotel  \n",
       "..                            ...  \n",
       "128  Venustiano Carranza, Mercado  \n",
       "37   Venustiano Carranza, Mercado  \n",
       "163  Venustiano Carranza, Mercado  \n",
       "156  Venustiano Carranza, Mercado  \n",
       "37   Venustiano Carranza, Mercado  \n",
       "\n",
       "[230 rows x 9 columns]"
      ]
     },
     "execution_count": 78,
     "metadata": {},
     "output_type": "execute_result"
    }
   ],
   "source": [
    "values_estrat = ['Cuautémoc, Hotel', 'Cuautémoc, Museo', 'Venustiano Carranza, Hotel', 'Cuauhtémoc, Mercado','Venustiano Carranza, Mercado']\n",
    "prop_estrat = [0.5, 0.2, 0.1, 0.1,0.1]\n",
    "df_estrat = data_estratificada(df, 'estratificado', values_estrat, prop_estrat, random_state=42)\n",
    "df_estrat"
   ]
  },
  {
   "cell_type": "markdown",
   "id": "e250aa70",
   "metadata": {},
   "source": [
    "# Varianza y desviación estándar muestral"
   ]
  },
  {
   "cell_type": "code",
   "execution_count": 79,
   "id": "9985be03",
   "metadata": {},
   "outputs": [],
   "source": [
    "import matplotlib.pyplot as plt\n",
    "import seaborn as sns"
   ]
  },
  {
   "cell_type": "code",
   "execution_count": 80,
   "id": "986adb0c",
   "metadata": {},
   "outputs": [
    {
     "data": {
      "text/html": [
       "<div>\n",
       "<style scoped>\n",
       "    .dataframe tbody tr th:only-of-type {\n",
       "        vertical-align: middle;\n",
       "    }\n",
       "\n",
       "    .dataframe tbody tr th {\n",
       "        vertical-align: top;\n",
       "    }\n",
       "\n",
       "    .dataframe thead th {\n",
       "        text-align: right;\n",
       "    }\n",
       "</style>\n",
       "<table border=\"1\" class=\"dataframe\">\n",
       "  <thead>\n",
       "    <tr style=\"text-align: right;\">\n",
       "      <th></th>\n",
       "      <th>sepal_length</th>\n",
       "      <th>sepal_width</th>\n",
       "      <th>petal_length</th>\n",
       "      <th>petal_width</th>\n",
       "      <th>species</th>\n",
       "    </tr>\n",
       "  </thead>\n",
       "  <tbody>\n",
       "    <tr>\n",
       "      <th>0</th>\n",
       "      <td>5.1</td>\n",
       "      <td>3.5</td>\n",
       "      <td>1.4</td>\n",
       "      <td>0.2</td>\n",
       "      <td>setosa</td>\n",
       "    </tr>\n",
       "    <tr>\n",
       "      <th>1</th>\n",
       "      <td>4.9</td>\n",
       "      <td>3.0</td>\n",
       "      <td>1.4</td>\n",
       "      <td>0.2</td>\n",
       "      <td>setosa</td>\n",
       "    </tr>\n",
       "    <tr>\n",
       "      <th>2</th>\n",
       "      <td>4.7</td>\n",
       "      <td>3.2</td>\n",
       "      <td>1.3</td>\n",
       "      <td>0.2</td>\n",
       "      <td>setosa</td>\n",
       "    </tr>\n",
       "    <tr>\n",
       "      <th>3</th>\n",
       "      <td>4.6</td>\n",
       "      <td>3.1</td>\n",
       "      <td>1.5</td>\n",
       "      <td>0.2</td>\n",
       "      <td>setosa</td>\n",
       "    </tr>\n",
       "    <tr>\n",
       "      <th>4</th>\n",
       "      <td>5.0</td>\n",
       "      <td>3.6</td>\n",
       "      <td>1.4</td>\n",
       "      <td>0.2</td>\n",
       "      <td>setosa</td>\n",
       "    </tr>\n",
       "  </tbody>\n",
       "</table>\n",
       "</div>"
      ],
      "text/plain": [
       "   sepal_length  sepal_width  petal_length  petal_width species\n",
       "0           5.1          3.5           1.4          0.2  setosa\n",
       "1           4.9          3.0           1.4          0.2  setosa\n",
       "2           4.7          3.2           1.3          0.2  setosa\n",
       "3           4.6          3.1           1.5          0.2  setosa\n",
       "4           5.0          3.6           1.4          0.2  setosa"
      ]
     },
     "execution_count": 80,
     "metadata": {},
     "output_type": "execute_result"
    }
   ],
   "source": [
    "iris = sns.load_dataset('iris')\n",
    "iris.head()"
   ]
  },
  {
   "cell_type": "code",
   "execution_count": 81,
   "id": "ac6469fc",
   "metadata": {},
   "outputs": [
    {
     "data": {
      "text/plain": [
       "(array([ 9., 23., 14., 27., 16., 26., 18.,  6.,  5.,  6.]),\n",
       " array([4.3 , 4.66, 5.02, 5.38, 5.74, 6.1 , 6.46, 6.82, 7.18, 7.54, 7.9 ]),\n",
       " <BarContainer object of 10 artists>)"
      ]
     },
     "execution_count": 81,
     "metadata": {},
     "output_type": "execute_result"
    },
    {
     "data": {
      "image/png": "[encoded data removed]",
      "text/plain": [
       "<Figure size 432x288 with 1 Axes>"
      ]
     },
     "metadata": {
      "needs_background": "light"
     },
     "output_type": "display_data"
    }
   ],
   "source": [
    "plt.hist(data= iris, x='sepal_length')"
   ]
  },
  {
   "cell_type": "code",
   "execution_count": 82,
   "id": "b1a28ad4",
   "metadata": {},
   "outputs": [
    {
     "name": "stderr",
     "output_type": "stream",
     "text": [
      "C:\\Users\\gnobl\\anaconda3\\lib\\site-packages\\seaborn\\distributions.py:2619: FutureWarning: `distplot` is a deprecated function and will be removed in a future version. Please adapt your code to use either `displot` (a figure-level function with similar flexibility) or `histplot` (an axes-level function for histograms).\n",
      "  warnings.warn(msg, FutureWarning)\n"
     ]
    },
    {
     "data": {
      "text/plain": [
       "<AxesSubplot:xlabel='sepal_length', ylabel='Density'>"
      ]
     },
     "execution_count": 82,
     "metadata": {},
     "output_type": "execute_result"
    },
    {
     "data": {
      "image/png": "[encoded data removed]",
      "text/plain": [
       "<Figure size 432x288 with 1 Axes>"
      ]
     },
     "metadata": {
      "needs_background": "light"
     },
     "output_type": "display_data"
    }
   ],
   "source": [
    "sns.distplot(iris['sepal_length'], hist=True, kde=True, bins=int(180/5))"
   ]
  },
  {
   "cell_type": "markdown",
   "id": "12c73f4a",
   "metadata": {},
   "source": [
    "## Calculo de la varianza"
   ]
  },
  {
   "cell_type": "code",
   "execution_count": 83,
   "id": "cf176d7f",
   "metadata": {},
   "outputs": [
    {
     "data": {
      "text/plain": [
       "0.6856935123042505"
      ]
     },
     "execution_count": 83,
     "metadata": {},
     "output_type": "execute_result"
    }
   ],
   "source": [
    "iris['sepal_length'].var()"
   ]
  },
  {
   "cell_type": "markdown",
   "id": "7944f30c",
   "metadata": {},
   "source": [
    "## Cálculo de la desviación estandar"
   ]
  },
  {
   "cell_type": "code",
   "execution_count": 84,
   "id": "72fcc2b6",
   "metadata": {},
   "outputs": [
    {
     "data": {
      "text/plain": [
       "0.8280661279778629"
      ]
     },
     "execution_count": 84,
     "metadata": {},
     "output_type": "execute_result"
    }
   ],
   "source": [
    "iris['sepal_length'].std()"
   ]
  },
  {
   "cell_type": "markdown",
   "id": "17f7acbe",
   "metadata": {},
   "source": [
    "## Cálculo de la media"
   ]
  },
  {
   "cell_type": "code",
   "execution_count": 85,
   "id": "6855ec12",
   "metadata": {},
   "outputs": [
    {
     "data": {
      "text/plain": [
       "5.843333333333335"
      ]
     },
     "execution_count": 85,
     "metadata": {},
     "output_type": "execute_result"
    }
   ],
   "source": [
    "iris['sepal_length'].mean()"
   ]
  },
  {
   "cell_type": "markdown",
   "id": "b72cc9d4",
   "metadata": {},
   "source": [
    "Creamos una muestra mediante el muestreo aleatorio simple"
   ]
  },
  {
   "cell_type": "code",
   "execution_count": 86,
   "id": "3345d3e6",
   "metadata": {},
   "outputs": [
    {
     "data": {
      "text/html": [
       "<div>\n",
       "<style scoped>\n",
       "    .dataframe tbody tr th:only-of-type {\n",
       "        vertical-align: middle;\n",
       "    }\n",
       "\n",
       "    .dataframe tbody tr th {\n",
       "        vertical-align: top;\n",
       "    }\n",
       "\n",
       "    .dataframe thead th {\n",
       "        text-align: right;\n",
       "    }\n",
       "</style>\n",
       "<table border=\"1\" class=\"dataframe\">\n",
       "  <thead>\n",
       "    <tr style=\"text-align: right;\">\n",
       "      <th></th>\n",
       "      <th>sepal_length</th>\n",
       "      <th>sepal_width</th>\n",
       "      <th>petal_length</th>\n",
       "      <th>petal_width</th>\n",
       "      <th>species</th>\n",
       "    </tr>\n",
       "  </thead>\n",
       "  <tbody>\n",
       "    <tr>\n",
       "      <th>126</th>\n",
       "      <td>6.2</td>\n",
       "      <td>2.8</td>\n",
       "      <td>4.8</td>\n",
       "      <td>1.8</td>\n",
       "      <td>virginica</td>\n",
       "    </tr>\n",
       "    <tr>\n",
       "      <th>45</th>\n",
       "      <td>4.8</td>\n",
       "      <td>3.0</td>\n",
       "      <td>1.4</td>\n",
       "      <td>0.3</td>\n",
       "      <td>setosa</td>\n",
       "    </tr>\n",
       "    <tr>\n",
       "      <th>73</th>\n",
       "      <td>6.1</td>\n",
       "      <td>2.8</td>\n",
       "      <td>4.7</td>\n",
       "      <td>1.2</td>\n",
       "      <td>versicolor</td>\n",
       "    </tr>\n",
       "    <tr>\n",
       "      <th>118</th>\n",
       "      <td>7.7</td>\n",
       "      <td>2.6</td>\n",
       "      <td>6.9</td>\n",
       "      <td>2.3</td>\n",
       "      <td>virginica</td>\n",
       "    </tr>\n",
       "    <tr>\n",
       "      <th>59</th>\n",
       "      <td>5.2</td>\n",
       "      <td>2.7</td>\n",
       "      <td>3.9</td>\n",
       "      <td>1.4</td>\n",
       "      <td>versicolor</td>\n",
       "    </tr>\n",
       "    <tr>\n",
       "      <th>...</th>\n",
       "      <td>...</td>\n",
       "      <td>...</td>\n",
       "      <td>...</td>\n",
       "      <td>...</td>\n",
       "      <td>...</td>\n",
       "    </tr>\n",
       "    <tr>\n",
       "      <th>93</th>\n",
       "      <td>5.0</td>\n",
       "      <td>2.3</td>\n",
       "      <td>3.3</td>\n",
       "      <td>1.0</td>\n",
       "      <td>versicolor</td>\n",
       "    </tr>\n",
       "    <tr>\n",
       "      <th>139</th>\n",
       "      <td>6.9</td>\n",
       "      <td>3.1</td>\n",
       "      <td>5.4</td>\n",
       "      <td>2.1</td>\n",
       "      <td>virginica</td>\n",
       "    </tr>\n",
       "    <tr>\n",
       "      <th>34</th>\n",
       "      <td>4.9</td>\n",
       "      <td>3.1</td>\n",
       "      <td>1.5</td>\n",
       "      <td>0.2</td>\n",
       "      <td>setosa</td>\n",
       "    </tr>\n",
       "    <tr>\n",
       "      <th>131</th>\n",
       "      <td>7.9</td>\n",
       "      <td>3.8</td>\n",
       "      <td>6.4</td>\n",
       "      <td>2.0</td>\n",
       "      <td>virginica</td>\n",
       "    </tr>\n",
       "    <tr>\n",
       "      <th>133</th>\n",
       "      <td>6.3</td>\n",
       "      <td>2.8</td>\n",
       "      <td>5.1</td>\n",
       "      <td>1.5</td>\n",
       "      <td>virginica</td>\n",
       "    </tr>\n",
       "  </tbody>\n",
       "</table>\n",
       "<p>75 rows × 5 columns</p>\n",
       "</div>"
      ],
      "text/plain": [
       "     sepal_length  sepal_width  petal_length  petal_width     species\n",
       "126           6.2          2.8           4.8          1.8   virginica\n",
       "45            4.8          3.0           1.4          0.3      setosa\n",
       "73            6.1          2.8           4.7          1.2  versicolor\n",
       "118           7.7          2.6           6.9          2.3   virginica\n",
       "59            5.2          2.7           3.9          1.4  versicolor\n",
       "..            ...          ...           ...          ...         ...\n",
       "93            5.0          2.3           3.3          1.0  versicolor\n",
       "139           6.9          3.1           5.4          2.1   virginica\n",
       "34            4.9          3.1           1.5          0.2      setosa\n",
       "131           7.9          3.8           6.4          2.0   virginica\n",
       "133           6.3          2.8           5.1          1.5   virginica\n",
       "\n",
       "[75 rows x 5 columns]"
      ]
     },
     "execution_count": 86,
     "metadata": {},
     "output_type": "execute_result"
    }
   ],
   "source": [
    "muestra = iris.sample(frac=0.5)\n",
    "muestra"
   ]
  },
  {
   "cell_type": "markdown",
   "id": "6b8d6456",
   "metadata": {},
   "source": [
    "## Calculo de varianza"
   ]
  },
  {
   "cell_type": "code",
   "execution_count": 87,
   "id": "b572cd0c",
   "metadata": {},
   "outputs": [
    {
     "data": {
      "text/plain": [
       "0.7110378378378381"
      ]
     },
     "execution_count": 87,
     "metadata": {},
     "output_type": "execute_result"
    }
   ],
   "source": [
    "muestra['sepal_length'].var()"
   ]
  },
  {
   "cell_type": "markdown",
   "id": "a881eccb",
   "metadata": {},
   "source": [
    "## Calculo de desviacion estandar"
   ]
  },
  {
   "cell_type": "code",
   "execution_count": 88,
   "id": "e81a74a3",
   "metadata": {},
   "outputs": [
    {
     "data": {
      "text/plain": [
       "0.8432305958857507"
      ]
     },
     "execution_count": 88,
     "metadata": {},
     "output_type": "execute_result"
    }
   ],
   "source": [
    "muestra['sepal_length'].std()"
   ]
  },
  {
   "cell_type": "markdown",
   "id": "79092a1f",
   "metadata": {},
   "source": [
    "## Cálculo de la media"
   ]
  },
  {
   "cell_type": "code",
   "execution_count": 89,
   "id": "8e64a59e",
   "metadata": {},
   "outputs": [
    {
     "data": {
      "text/plain": [
       "5.823999999999999"
      ]
     },
     "execution_count": 89,
     "metadata": {},
     "output_type": "execute_result"
    }
   ],
   "source": [
    "muestra['sepal_length'].mean()"
   ]
  },
  {
   "cell_type": "markdown",
   "id": "e992ca45",
   "metadata": {},
   "source": [
    "# Intervalos de confianza"
   ]
  },
  {
   "cell_type": "code",
   "execution_count": 90,
   "id": "200984bc",
   "metadata": {},
   "outputs": [],
   "source": [
    "import scipy.stats as st #Libreria para calcular metodos estadisticos"
   ]
  },
  {
   "cell_type": "code",
   "execution_count": 91,
   "id": "a1074b12",
   "metadata": {},
   "outputs": [],
   "source": [
    "np.random.seed(20) \n",
    "var_1 = np.random.randint(0, 10, 10) # Días de vacaciones\n",
    "var_2 = var_1+np.random.normal(0,1,10) #Dinero gastado (0 = no se gasta nada, 1 = se gasta todo)"
   ]
  },
  {
   "cell_type": "markdown",
   "id": "2de4f1b6",
   "metadata": {},
   "source": [
    "## Visualizacion de resultados con un intervalo de confianza del 80%"
   ]
  },
  {
   "cell_type": "code",
   "execution_count": 92,
   "id": "616cb235",
   "metadata": {},
   "outputs": [
    {
     "name": "stderr",
     "output_type": "stream",
     "text": [
      "C:\\Users\\gnobl\\anaconda3\\lib\\site-packages\\seaborn\\_decorators.py:36: FutureWarning: Pass the following variables as keyword args: x, y. From version 0.12, the only valid positional argument will be `data`, and passing other arguments without an explicit keyword will result in an error or misinterpretation.\n",
      "  warnings.warn(\n"
     ]
    },
    {
     "data": {
      "image/png": "[encoded data removed]",
      "text/plain": [
       "<Figure size 432x288 with 1 Axes>"
      ]
     },
     "metadata": {
      "needs_background": "light"
     },
     "output_type": "display_data"
    }
   ],
   "source": [
    "graf = sns.regplot(var_1,var_2, ci=80)"
   ]
  },
  {
   "cell_type": "code",
   "execution_count": 93,
   "id": "99a52c8d",
   "metadata": {},
   "outputs": [
    {
     "data": {
      "text/plain": [
       "[(3, 1.9151674126826672),\n",
       " (9, 9.559696289403918),\n",
       " (4, 4.939469349856077),\n",
       " (6, 5.021518957881304),\n",
       " (7, 7.503096840109191),\n",
       " (2, 2.406414468894801),\n",
       " (0, 0.3234610099156434),\n",
       " (6, 5.50658911809112),\n",
       " (8, 7.207983209222818),\n",
       " (5, 4.157632065861516)]"
      ]
     },
     "execution_count": 93,
     "metadata": {},
     "output_type": "execute_result"
    }
   ],
   "source": [
    "tuple = list(zip(var_1, var_2)) #unimos las dos variables en una tupla\n",
    "tuple"
   ]
  },
  {
   "cell_type": "code",
   "execution_count": 94,
   "id": "53969b16",
   "metadata": {},
   "outputs": [
    {
     "data": {
      "text/html": [
       "<div>\n",
       "<style scoped>\n",
       "    .dataframe tbody tr th:only-of-type {\n",
       "        vertical-align: middle;\n",
       "    }\n",
       "\n",
       "    .dataframe tbody tr th {\n",
       "        vertical-align: top;\n",
       "    }\n",
       "\n",
       "    .dataframe thead th {\n",
       "        text-align: right;\n",
       "    }\n",
       "</style>\n",
       "<table border=\"1\" class=\"dataframe\">\n",
       "  <thead>\n",
       "    <tr style=\"text-align: right;\">\n",
       "      <th></th>\n",
       "      <th>Dias_vacaciones</th>\n",
       "      <th>Dinero_gastado</th>\n",
       "    </tr>\n",
       "  </thead>\n",
       "  <tbody>\n",
       "    <tr>\n",
       "      <th>0</th>\n",
       "      <td>3</td>\n",
       "      <td>1.915167</td>\n",
       "    </tr>\n",
       "    <tr>\n",
       "      <th>1</th>\n",
       "      <td>9</td>\n",
       "      <td>9.559696</td>\n",
       "    </tr>\n",
       "    <tr>\n",
       "      <th>2</th>\n",
       "      <td>4</td>\n",
       "      <td>4.939469</td>\n",
       "    </tr>\n",
       "    <tr>\n",
       "      <th>3</th>\n",
       "      <td>6</td>\n",
       "      <td>5.021519</td>\n",
       "    </tr>\n",
       "    <tr>\n",
       "      <th>4</th>\n",
       "      <td>7</td>\n",
       "      <td>7.503097</td>\n",
       "    </tr>\n",
       "    <tr>\n",
       "      <th>5</th>\n",
       "      <td>2</td>\n",
       "      <td>2.406414</td>\n",
       "    </tr>\n",
       "    <tr>\n",
       "      <th>6</th>\n",
       "      <td>0</td>\n",
       "      <td>0.323461</td>\n",
       "    </tr>\n",
       "    <tr>\n",
       "      <th>7</th>\n",
       "      <td>6</td>\n",
       "      <td>5.506589</td>\n",
       "    </tr>\n",
       "    <tr>\n",
       "      <th>8</th>\n",
       "      <td>8</td>\n",
       "      <td>7.207983</td>\n",
       "    </tr>\n",
       "    <tr>\n",
       "      <th>9</th>\n",
       "      <td>5</td>\n",
       "      <td>4.157632</td>\n",
       "    </tr>\n",
       "  </tbody>\n",
       "</table>\n",
       "</div>"
      ],
      "text/plain": [
       "   Dias_vacaciones  Dinero_gastado\n",
       "0                3        1.915167\n",
       "1                9        9.559696\n",
       "2                4        4.939469\n",
       "3                6        5.021519\n",
       "4                7        7.503097\n",
       "5                2        2.406414\n",
       "6                0        0.323461\n",
       "7                6        5.506589\n",
       "8                8        7.207983\n",
       "9                5        4.157632"
      ]
     },
     "execution_count": 94,
     "metadata": {},
     "output_type": "execute_result"
    }
   ],
   "source": [
    "tabla = pd.DataFrame(tuple, columns=['Dias_vacaciones', 'Dinero_gastado']) #Convertimos la tupla en una data frame\n",
    "tabla"
   ]
  },
  {
   "cell_type": "code",
   "execution_count": 95,
   "id": "c268bebc",
   "metadata": {},
   "outputs": [
    {
     "name": "stderr",
     "output_type": "stream",
     "text": [
      "C:\\Users\\gnobl\\anaconda3\\lib\\site-packages\\numpy\\core\\fromnumeric.py:3438: FutureWarning: In a future version, DataFrame.mean(axis=None) will return a scalar mean over the entire DataFrame. To retain the old behavior, use 'frame.mean(axis=0)' or just 'frame.mean()'\n",
      "  return mean(axis=axis, dtype=dtype, out=out, **kwargs)\n"
     ]
    },
    {
     "data": {
      "text/plain": [
       "(array([3.03496624, 2.87784583]), array([6.96503376, 6.83035991]))"
      ]
     },
     "execution_count": 95,
     "metadata": {},
     "output_type": "execute_result"
    }
   ],
   "source": [
    "#Intervalo de confiaza al 95%\n",
    "st.t.interval(alpha=0.95, df=len(tabla),loc = np.mean(tabla),scale=st.sem(tabla))"
   ]
  },
  {
   "cell_type": "markdown",
   "id": "b884f15e",
   "metadata": {},
   "source": [
    "El primer array de resultados indica que la gente viajaria entre 2.8 a 3 dias El segundo array indica que gastaran entre el 68% y el 69% de su dinero"
   ]
  },
  {
   "cell_type": "markdown",
   "id": "75986375",
   "metadata": {},
   "source": [
    "# Tipos de pruebas de hipotesis"
   ]
  },
  {
   "cell_type": "code",
   "execution_count": 96,
   "id": "43bbfde0",
   "metadata": {},
   "outputs": [],
   "source": [
    "import scipy.stats as st\n",
    "from scipy.stats import f_oneway\n",
    "from scipy.stats import ttest_ind"
   ]
  },
  {
   "cell_type": "code",
   "execution_count": 97,
   "id": "d6ce9b9f",
   "metadata": {},
   "outputs": [
    {
     "data": {
      "text/html": [
       "<div>\n",
       "<style scoped>\n",
       "    .dataframe tbody tr th:only-of-type {\n",
       "        vertical-align: middle;\n",
       "    }\n",
       "\n",
       "    .dataframe tbody tr th {\n",
       "        vertical-align: top;\n",
       "    }\n",
       "\n",
       "    .dataframe thead th {\n",
       "        text-align: right;\n",
       "    }\n",
       "</style>\n",
       "<table border=\"1\" class=\"dataframe\">\n",
       "  <thead>\n",
       "    <tr style=\"text-align: right;\">\n",
       "      <th></th>\n",
       "      <th>sepal_length</th>\n",
       "      <th>sepal_width</th>\n",
       "      <th>petal_length</th>\n",
       "      <th>petal_width</th>\n",
       "      <th>species</th>\n",
       "    </tr>\n",
       "  </thead>\n",
       "  <tbody>\n",
       "    <tr>\n",
       "      <th>0</th>\n",
       "      <td>5.1</td>\n",
       "      <td>3.5</td>\n",
       "      <td>1.4</td>\n",
       "      <td>0.2</td>\n",
       "      <td>setosa</td>\n",
       "    </tr>\n",
       "    <tr>\n",
       "      <th>1</th>\n",
       "      <td>4.9</td>\n",
       "      <td>3.0</td>\n",
       "      <td>1.4</td>\n",
       "      <td>0.2</td>\n",
       "      <td>setosa</td>\n",
       "    </tr>\n",
       "    <tr>\n",
       "      <th>2</th>\n",
       "      <td>4.7</td>\n",
       "      <td>3.2</td>\n",
       "      <td>1.3</td>\n",
       "      <td>0.2</td>\n",
       "      <td>setosa</td>\n",
       "    </tr>\n",
       "    <tr>\n",
       "      <th>3</th>\n",
       "      <td>4.6</td>\n",
       "      <td>3.1</td>\n",
       "      <td>1.5</td>\n",
       "      <td>0.2</td>\n",
       "      <td>setosa</td>\n",
       "    </tr>\n",
       "    <tr>\n",
       "      <th>4</th>\n",
       "      <td>5.0</td>\n",
       "      <td>3.6</td>\n",
       "      <td>1.4</td>\n",
       "      <td>0.2</td>\n",
       "      <td>setosa</td>\n",
       "    </tr>\n",
       "  </tbody>\n",
       "</table>\n",
       "</div>"
      ],
      "text/plain": [
       "   sepal_length  sepal_width  petal_length  petal_width species\n",
       "0           5.1          3.5           1.4          0.2  setosa\n",
       "1           4.9          3.0           1.4          0.2  setosa\n",
       "2           4.7          3.2           1.3          0.2  setosa\n",
       "3           4.6          3.1           1.5          0.2  setosa\n",
       "4           5.0          3.6           1.4          0.2  setosa"
      ]
     },
     "execution_count": 97,
     "metadata": {},
     "output_type": "execute_result"
    }
   ],
   "source": [
    "iris.head()"
   ]
  },
  {
   "cell_type": "markdown",
   "id": "5f94d653",
   "metadata": {},
   "source": [
    "## Distribucion t de student"
   ]
  },
  {
   "cell_type": "code",
   "execution_count": 98,
   "id": "9614ef4a",
   "metadata": {},
   "outputs": [
    {
     "name": "stderr",
     "output_type": "stream",
     "text": [
      "C:\\Users\\gnobl\\AppData\\Local\\Temp\\ipykernel_11952\\3445850388.py:1: FutureWarning: Dropping of nuisance columns in DataFrame reductions (with 'numeric_only=None') is deprecated; in a future version this will raise TypeError.  Select only valid columns before calling the reduction.\n",
      "  se_length = iris.std()['sepal_length']/np.sqrt(10)\n",
      "C:\\Users\\gnobl\\AppData\\Local\\Temp\\ipykernel_11952\\3445850388.py:2: FutureWarning: Dropping of nuisance columns in DataFrame reductions (with 'numeric_only=None') is deprecated; in a future version this will raise TypeError.  Select only valid columns before calling the reduction.\n",
      "  se_width = iris.std()['sepal_width']/np.sqrt(10)\n"
     ]
    }
   ],
   "source": [
    "se_length = iris.std()['sepal_length']/np.sqrt(10)\n",
    "se_width = iris.std()['sepal_width']/np.sqrt(10)"
   ]
  },
  {
   "cell_type": "code",
   "execution_count": 99,
   "id": "4506ed0f",
   "metadata": {},
   "outputs": [],
   "source": [
    "sed = np.sqrt((se_length**2)+ (se_width**2))"
   ]
  },
  {
   "cell_type": "code",
   "execution_count": 100,
   "id": "2c68c7ec",
   "metadata": {},
   "outputs": [
    {
     "name": "stderr",
     "output_type": "stream",
     "text": [
      "C:\\Users\\gnobl\\AppData\\Local\\Temp\\ipykernel_11952\\1478535287.py:1: FutureWarning: Dropping of nuisance columns in DataFrame reductions (with 'numeric_only=None') is deprecated; in a future version this will raise TypeError.  Select only valid columns before calling the reduction.\n",
      "  t_stat = (iris.mean()['sepal_length']- iris.mean()['sepal_width'])/sed\n"
     ]
    },
    {
     "data": {
      "text/plain": [
       "9.414779428410267"
      ]
     },
     "execution_count": 100,
     "metadata": {},
     "output_type": "execute_result"
    }
   ],
   "source": [
    "t_stat = (iris.mean()['sepal_length']- iris.mean()['sepal_width'])/sed\n",
    "t_stat"
   ]
  },
  {
   "cell_type": "code",
   "execution_count": 101,
   "id": "2e6a895b",
   "metadata": {},
   "outputs": [
    {
     "data": {
      "text/plain": [
       "Ttest_indResult(statistic=36.463283934449116, pvalue=7.027919392009369e-112)"
      ]
     },
     "execution_count": 101,
     "metadata": {},
     "output_type": "execute_result"
    }
   ],
   "source": [
    "p = ttest_ind(iris['sepal_length'],iris['sepal_width'])\n",
    "p"
   ]
  },
  {
   "cell_type": "markdown",
   "id": "35286eb3",
   "metadata": {},
   "source": [
    "La conclusion es que el valor de t (9.414) es mayor que el valor critico ( el valor de p), estamos concluyendo que las distribuciones son diferentes, estamos rechazando la hipotesis nula, donde la teoria inicial era que las distribuciones de ambas eran similares, como no sucede, rechazamos la hipotesis nula, y nos vamos por la hipotesis alternativa que en este caso seria que las distribuciones son diferentes\n",
    "\n",
    "Rechazamos la hipotesis nula porque el valor de t es muy superior al valor p. Si el valor t fuera menor al p-value se aceptaria la hipotesis nula"
   ]
  },
  {
   "cell_type": "markdown",
   "id": "06c4475a",
   "metadata": {},
   "source": [
    "# Correlacion y coeficiente de Pearson"
   ]
  },
  {
   "cell_type": "code",
   "execution_count": 102,
   "id": "4b36b507",
   "metadata": {},
   "outputs": [
    {
     "data": {
      "text/plain": [
       "-0.11756978413300202"
      ]
     },
     "execution_count": 102,
     "metadata": {},
     "output_type": "execute_result"
    }
   ],
   "source": [
    "iris['sepal_length'].corr(iris['sepal_width'])\n",
    "#Ese valor nos indica que la correlacion es muy debil o inexistente"
   ]
  },
  {
   "cell_type": "code",
   "execution_count": 103,
   "id": "bd50f87f",
   "metadata": {},
   "outputs": [
    {
     "data": {
      "text/plain": [
       "(-0.11756978413300188, 0.15189826071144835)"
      ]
     },
     "execution_count": 103,
     "metadata": {},
     "output_type": "execute_result"
    }
   ],
   "source": [
    "st.pearsonr(iris['sepal_length'],iris['sepal_width'])\n",
    "#No hay una correlacion entre las variables"
   ]
  },
  {
   "cell_type": "markdown",
   "id": "851f5906",
   "metadata": {},
   "source": [
    "# Analisis de la varianza ANOVA"
   ]
  },
  {
   "cell_type": "code",
   "execution_count": 104,
   "id": "0c8528c7",
   "metadata": {},
   "outputs": [
    {
     "data": {
      "text/plain": [
       "F_onewayResult(statistic=1329.571075284254, pvalue=7.027919392009998e-112)"
      ]
     },
     "execution_count": 104,
     "metadata": {},
     "output_type": "execute_result"
    }
   ],
   "source": [
    "f_oneway(iris['sepal_length'],iris['sepal_width'])\n",
    "#El valor de p es menor al 0.5 de significancia, lo que nos indica que debemos rechazar la hipotesis nula de que ambas estan relacionadas"
   ]
  },
  {
   "cell_type": "code",
   "execution_count": 105,
   "id": "c80299f2",
   "metadata": {},
   "outputs": [
    {
     "data": {
      "text/plain": [
       "0.8179411262715756"
      ]
     },
     "execution_count": 105,
     "metadata": {},
     "output_type": "execute_result"
    }
   ],
   "source": [
    "iris['sepal_length'].corr(iris['petal_width'])\n",
    "#Estan altamente relacionadas"
   ]
  },
  {
   "cell_type": "code",
   "execution_count": 106,
   "id": "f6fa68bd",
   "metadata": {},
   "outputs": [
    {
     "data": {
      "text/plain": [
       "(0.8179411262715752, 2.3254980797935457e-37)"
      ]
     },
     "execution_count": 106,
     "metadata": {},
     "output_type": "execute_result"
    }
   ],
   "source": [
    "st.pearsonr(iris['sepal_length'], iris['petal_width'])\n",
    "#Hay correlacion entre variables"
   ]
  },
  {
   "cell_type": "code",
   "execution_count": 107,
   "id": "e2454b3a",
   "metadata": {},
   "outputs": [
    {
     "data": {
      "text/plain": [
       "F_onewayResult(statistic=2553.888822404493, pvalue=3.4019773468158846e-148)"
      ]
     },
     "execution_count": 107,
     "metadata": {},
     "output_type": "execute_result"
    }
   ],
   "source": [
    "f_oneway(iris['sepal_length'],iris['petal_width'])"
   ]
  },
  {
   "cell_type": "markdown",
   "id": "50a09223",
   "metadata": {},
   "source": [
    "# Bootstrapping"
   ]
  },
  {
   "cell_type": "code",
   "execution_count": 108,
   "id": "4277a7a8",
   "metadata": {},
   "outputs": [
    {
     "data": {
      "text/plain": [
       "array([32.72049734, 34.24571517, 33.9558052 , 35.56763255, 35.05110868,\n",
       "       34.40636843, 33.8313539 , 30.81029721, 35.12013226, 35.33277821,\n",
       "       33.75666123, 33.86996929, 33.89098263, 35.55618644, 34.12877835,\n",
       "       31.93305128, 33.11450685, 32.89542052, 34.93286635, 36.059838  ,\n",
       "       33.06506204, 32.38700978, 34.52706972, 32.44889926, 34.32961334,\n",
       "       32.86347346, 33.6615094 , 34.32097078, 33.39769198, 35.54472836,\n",
       "       34.64703408, 34.59321721, 34.4380245 , 35.35778902, 35.20451128,\n",
       "       35.35179619, 34.49343724, 31.29563475, 33.4448142 , 34.00150856,\n",
       "       34.85709382, 35.48114365, 33.78033888, 35.50339816, 32.51761495,\n",
       "       33.14383578, 33.17130723, 34.1140476 , 34.52772847, 34.15583822,\n",
       "       35.3014294 , 33.00519809, 36.09466534, 34.35942899, 34.69100212,\n",
       "       32.51428039, 34.09878861, 33.77167897, 33.14522451, 33.48685489,\n",
       "       33.03778402, 33.51754909, 33.76053024, 34.45974423, 34.64643017,\n",
       "       34.48740296, 34.03819247, 34.98948656, 34.14362263, 34.75029793,\n",
       "       33.59042857, 35.44740705, 33.59546598, 35.14892501, 33.06108951,\n",
       "       32.09853595, 35.09543335, 33.66645621, 32.55815143, 32.58333325,\n",
       "       32.37049848, 32.18474419, 32.943831  , 34.55427493, 33.04998199,\n",
       "       34.85799935, 33.46792075, 35.12575886, 34.21865772, 33.60711804,\n",
       "       33.77130273, 32.42374512, 34.16583301, 34.78879681, 32.03810776,\n",
       "       32.14796176, 35.09188661, 34.93459086, 33.28821444, 35.44308301,\n",
       "       34.75231332, 32.66507923, 34.67663967, 34.83110578, 33.63494256,\n",
       "       34.49677025, 34.28955915, 33.52979066, 35.60599264, 33.84633817,\n",
       "       32.21383137, 33.8883427 , 35.53764397, 32.96836748, 33.89418695,\n",
       "       36.00990161, 34.01123134, 32.91057053, 32.48548903, 33.44023869,\n",
       "       34.84162252, 34.25155289, 34.82518462, 35.82220544, 34.33812635,\n",
       "       34.10906278, 34.34848886, 34.44911815, 32.88525938, 33.07679264,\n",
       "       34.02136904, 34.59441543, 35.82714153, 32.91349623, 35.05844209,\n",
       "       34.74716509, 34.6099178 , 33.92277225, 32.05873371, 34.34143471,\n",
       "       35.86285514, 33.70476953, 34.47831651, 33.2848095 , 35.23729293,\n",
       "       34.84038865, 34.72412728, 33.81984069, 34.15257919, 35.22994294,\n",
       "       34.27207689, 34.07507401, 34.08681927, 31.48464572, 35.85004388,\n",
       "       33.82419354, 34.903463  , 32.45484065, 35.4414779 , 34.26883223,\n",
       "       34.42905404, 34.4363884 , 33.5617398 , 35.42049845, 35.9554321 ,\n",
       "       33.60842458, 34.12072221, 34.4140251 , 35.36650573, 32.63678002,\n",
       "       34.01565366, 34.90466021, 33.19309891, 33.29368965, 35.05289192,\n",
       "       33.90652871, 32.56104946, 33.68873109, 34.80566924, 33.98744906,\n",
       "       33.73917709, 33.11052227, 32.38410079, 33.1480354 , 33.95881986,\n",
       "       33.7296731 , 32.49602218, 35.31396783, 33.96987389, 34.63501308,\n",
       "       34.50243523, 35.16196591, 33.69425171, 35.71228277, 35.169437  ,\n",
       "       33.72418513, 31.48821929, 33.58272819, 34.54157245, 33.8548927 ,\n",
       "       32.97841727, 34.47227797, 33.2918765 , 35.41413948, 33.50946684,\n",
       "       35.18117087, 33.95307489, 32.53989382, 33.4918085 , 33.50478424,\n",
       "       34.7617861 , 32.35315625, 34.85392636, 33.99204007, 33.11052482,\n",
       "       34.35350763, 33.46056924, 34.59113275, 33.88170651, 33.63952703,\n",
       "       32.93136788, 34.89071739, 34.2352516 , 33.90744021, 33.48893682,\n",
       "       34.59382268, 33.22592517, 32.9290776 , 33.37306266, 32.92263686,\n",
       "       35.27697984, 34.34646133, 33.87768406, 34.21916957, 34.14346708,\n",
       "       35.43484476, 35.05536439, 35.11529293, 35.8010064 , 33.80558117,\n",
       "       33.15781296, 32.85182532, 33.16845606, 33.3272534 , 34.67011646,\n",
       "       32.85112731, 33.73209259, 33.04843739, 32.42993137, 34.9859801 ,\n",
       "       34.92397815, 32.39861914, 33.70322465, 35.1893679 , 33.66669907,\n",
       "       34.92836199, 33.27776159, 36.12171286, 33.30837581, 34.39553831,\n",
       "       33.62809213, 32.96058265, 34.49184059, 35.00370859, 33.73442625,\n",
       "       32.9594069 , 33.83569871, 34.39406252, 33.76832017, 33.75237411,\n",
       "       33.61336769, 34.0229018 , 33.28745589, 34.32352159, 33.04131341,\n",
       "       33.66633531, 32.83693389, 34.75977538, 34.90975669, 35.44652159,\n",
       "       33.62314153, 33.87152575, 33.52246731, 33.87779752, 34.20765501,\n",
       "       33.85073411, 35.02086503, 35.97192189, 35.1407991 , 34.129755  ,\n",
       "       36.04005175, 34.41602743, 34.4309007 , 35.47498636, 35.45677779,\n",
       "       32.9529117 , 32.45733559, 35.00408048, 33.1016925 , 34.73520218,\n",
       "       35.52477321, 35.20678754, 35.09563181, 34.57944493, 34.37140095,\n",
       "       34.43958541, 35.09084481, 34.03692613, 35.11883675, 33.69153589,\n",
       "       34.80429475, 35.40139159, 33.65323536, 34.92340546, 33.88474582,\n",
       "       33.65335292, 33.2564669 , 33.07596142, 33.34235292, 33.77303641,\n",
       "       33.24646864, 34.08949335, 33.34525622, 34.1708318 , 35.41449117,\n",
       "       32.39020266, 35.25149585, 33.60853462, 34.09676108, 35.0874839 ,\n",
       "       35.14653179, 34.5270562 , 32.05279013, 33.89211078, 34.5666396 ,\n",
       "       33.22360617, 34.26539153, 35.91491164, 33.80663148, 34.35631269,\n",
       "       32.95124886, 32.94054378, 35.33083042, 32.98049567, 34.35243223,\n",
       "       33.09818404, 33.36729863, 33.64047332, 34.63740817, 32.39057039,\n",
       "       35.38766264, 35.53755272, 33.01743089, 32.62636364, 31.9315065 ,\n",
       "       35.33354253, 34.19305745, 33.15516627, 35.30483822, 34.64922817,\n",
       "       34.9424295 , 34.87982254, 34.11923003, 33.05538846, 33.02253447,\n",
       "       34.92173636, 33.12450006, 32.6575436 , 32.65942266, 33.68874416,\n",
       "       33.98522097, 35.12644611, 32.58281055, 35.0004732 , 33.81519873,\n",
       "       36.19234113, 34.15582362, 34.5556114 , 34.01536864, 33.99935572,\n",
       "       33.9332404 , 33.06602816, 34.47092111, 35.64748507, 33.59314209,\n",
       "       32.76878672, 33.76595696, 33.74462704, 34.29558637, 33.58773099,\n",
       "       33.52986747, 35.9447475 , 34.64902645, 35.1693731 , 34.14555047,\n",
       "       35.33845985, 33.17987941, 33.47579907, 32.28231018, 33.86503329,\n",
       "       35.23027818, 32.7062817 , 32.49101868, 34.54565559, 32.08929191,\n",
       "       34.44542694, 33.24304496, 33.14489661, 33.89594255, 34.1258166 ,\n",
       "       33.79920144, 33.46550968, 33.23174812, 35.84478455, 32.82297183,\n",
       "       33.53645417, 34.02480595, 34.46665115, 34.35357155, 34.78870723,\n",
       "       33.33991338, 34.00902026, 32.37414672, 34.21159254, 33.35069903,\n",
       "       35.19906476, 34.43716799, 33.31126943, 34.53353304, 34.29295634,\n",
       "       33.92728857, 33.98648356, 32.54231358, 33.1244186 , 34.36769644,\n",
       "       33.5058958 , 33.89133003, 35.92063065, 34.36370346, 32.98458203,\n",
       "       34.20131821, 35.25754407, 33.32863708, 33.10216255, 34.3372356 ,\n",
       "       34.2376356 , 32.95461739, 33.04784111, 33.19503913, 33.71739708,\n",
       "       34.03144107, 32.84593259, 34.08796128, 33.89335649, 33.73745883,\n",
       "       34.13994975, 32.46127828, 35.29710835, 34.73811835, 35.44324802,\n",
       "       34.04695868, 33.55426309, 34.63188656, 32.57400845, 33.78456789,\n",
       "       33.40968533, 35.90508785, 34.95267046, 33.56702658, 33.26943114,\n",
       "       32.90627504, 34.43759905, 33.23811678, 32.97031651, 33.14598444,\n",
       "       35.63409952, 34.11534154, 35.11082517, 33.66231144, 35.28874248,\n",
       "       33.99702558, 33.89874451, 32.2369639 , 35.00729553, 35.16933421,\n",
       "       33.93908511, 35.15650268, 34.73995607, 32.2526395 , 32.45528938,\n",
       "       32.92819379, 35.49167992, 33.58799227, 35.12553016, 34.29859715,\n",
       "       34.38041598, 33.63917266, 33.60907531, 34.11715025, 33.95260808,\n",
       "       32.82903805, 35.08395238, 34.33121703, 33.04022549, 34.25701258,\n",
       "       34.76141996, 34.26252893, 34.78199146, 34.25874634, 33.79881883,\n",
       "       33.40943608, 33.8424577 , 34.58816339, 33.0156189 , 34.50898896,\n",
       "       33.09651296, 34.50944315, 33.07722072, 34.19588357, 34.1031545 ,\n",
       "       32.95032611, 35.36211061, 33.71967113, 35.02628685, 35.2830221 ,\n",
       "       33.14547677, 34.2251681 , 32.90755449, 32.67624615, 31.71360183,\n",
       "       33.14897946, 34.3827102 , 31.89574918, 34.61129621, 34.33431403,\n",
       "       35.88142088, 33.07557444, 33.54262722, 32.67941824, 33.44065043,\n",
       "       35.86642311, 32.02130353, 33.70238548, 34.15363121, 33.7029621 ,\n",
       "       34.96570418, 34.65344556, 34.02478548, 34.58786053, 35.55928278,\n",
       "       34.84299406, 33.46161773, 33.59556035, 34.95413417, 34.8205514 ,\n",
       "       34.3051558 , 32.76410182, 34.83221654, 34.38217153, 33.26702172,\n",
       "       34.50605971, 33.73974015, 34.70427221, 33.17902571, 33.82444494,\n",
       "       35.10971341, 34.09184128, 33.8050898 , 33.63497956, 33.69801131,\n",
       "       36.14854072, 34.40700406, 34.96527387, 32.34254607, 34.13801112,\n",
       "       32.94713409, 35.23980014, 34.49139048, 33.55835417, 34.43972648,\n",
       "       34.19051316, 35.43281304, 33.92188576, 33.26803157, 33.41808857,\n",
       "       34.71202518, 36.34419874, 34.45871408, 31.23366551, 34.20585438,\n",
       "       35.17136415, 32.82430011, 33.87169588, 33.97566056, 34.28764662,\n",
       "       35.6356915 , 34.11494969, 34.1766759 , 33.72866182, 33.25166788,\n",
       "       33.18795327, 34.75977689, 35.02614542, 33.66930224, 32.38959323,\n",
       "       32.62087684, 34.91478116, 33.53774944, 33.67037118, 32.67321184,\n",
       "       33.59532617, 33.23706881, 34.35919546, 32.40708888, 34.61829361,\n",
       "       34.68466495, 34.2133726 , 36.30217719, 34.14918223, 33.96370622,\n",
       "       34.19754855, 34.52675612, 32.13038118, 34.46993586, 33.61309836,\n",
       "       35.57452058, 34.40631505, 33.63100156, 32.60240307, 34.88759299,\n",
       "       32.75742287, 35.26728857, 33.95237167, 34.11810663, 32.97506305,\n",
       "       32.55585919, 32.44378371, 34.85223069, 33.53519707, 32.34462942,\n",
       "       35.11420104, 33.57920436, 36.13154958, 33.45556015, 35.266826  ,\n",
       "       35.07510853, 34.61358951, 34.26158069, 33.49793463, 35.3767391 ,\n",
       "       34.16322725, 32.37220904, 34.49925933, 34.64085775, 35.52358649,\n",
       "       33.80446479, 33.65289916, 33.51843414, 33.95702846, 33.83957362,\n",
       "       32.84697946, 33.53581995, 33.46803119, 34.11977295, 34.33979629,\n",
       "       32.24648184, 33.87738835, 33.20056076, 33.41937804, 33.95985954,\n",
       "       34.11324448, 35.13849254, 33.11232593, 33.387226  , 35.85672988,\n",
       "       34.17145789, 32.01252645, 34.65282921, 33.78775355, 33.6214668 ,\n",
       "       32.84515533, 33.8465148 , 33.56078831, 34.46313639, 34.97629433,\n",
       "       34.23124894, 34.65502401, 34.92430339, 34.38018617, 34.70141771,\n",
       "       33.91485971, 33.29988275, 31.68170121, 33.06179864, 34.16906216,\n",
       "       33.48936179, 33.79392913, 34.77228024, 33.9096321 , 33.34996341,\n",
       "       32.74440673, 34.43175996, 31.93629   , 34.6855094 , 33.12876799,\n",
       "       35.02254063, 35.39171939, 33.99779129, 31.34020719, 35.47858928,\n",
       "       32.30082141, 36.06952979, 35.35450444, 35.11251656, 33.13376392,\n",
       "       34.56055701, 33.11514203, 32.8234849 , 33.74223187, 34.15533219,\n",
       "       34.12962048, 33.47074465, 34.52548923, 35.06472812, 33.29626361,\n",
       "       34.90050268, 34.60641692, 33.98207901, 33.42260539, 33.45416169,\n",
       "       33.6934732 , 33.45343374, 32.68301802, 34.43061489, 33.25966816,\n",
       "       34.09456765, 33.06492463, 34.22075737, 32.82956689, 33.76146087,\n",
       "       34.54333357, 33.75590154, 33.696991  , 33.63132748, 32.56329757,\n",
       "       36.88781986, 33.05509741, 33.30472719, 32.54757763, 35.08533575,\n",
       "       34.42278769, 34.51754202, 33.19103179, 35.03143446, 34.52980501,\n",
       "       35.47606685, 33.77644569, 33.0995209 , 34.51576356, 32.37437799,\n",
       "       34.7474301 , 32.9789166 , 34.60816948, 35.7437828 , 32.04349731,\n",
       "       33.39199834, 32.19174691, 33.11931218, 32.44664835, 33.13414732,\n",
       "       33.32764829, 33.76942423, 34.89102791, 34.57880009, 33.29303171,\n",
       "       32.57162219, 33.85391635, 34.9223846 , 34.19251669, 34.18703049,\n",
       "       32.8598154 , 34.11084929, 33.24573782, 33.61503768, 33.52993519,\n",
       "       34.04745287, 34.56362425, 33.79639562, 35.85009749, 35.02117013,\n",
       "       32.17139789, 34.54312538, 34.29183959, 34.43383887, 34.75141195,\n",
       "       32.7353313 , 34.02371054, 32.93650206, 34.53484492, 33.32929455,\n",
       "       32.31344474, 33.95672523, 32.99817318, 33.2373567 , 33.80028041,\n",
       "       35.1958064 , 33.37817772, 34.231813  , 34.57052009, 35.65719075,\n",
       "       32.45558853, 34.47970402, 34.49614112, 33.05578732, 34.56092261,\n",
       "       33.19503436, 34.71332741, 34.77526625, 32.30960567, 34.55720134,\n",
       "       34.23441618, 33.10425208, 33.15857553, 34.38336911, 33.90618834,\n",
       "       33.59057014, 33.4771672 , 32.61388685, 34.14939641, 32.57105836,\n",
       "       33.53358592, 33.83923094, 31.76382103, 33.59060443, 34.69883536,\n",
       "       36.2413102 , 33.58505482, 35.52956026, 33.93560982, 34.00682478,\n",
       "       33.01056253, 33.96017776, 34.49827734, 35.50775472, 32.37496954,\n",
       "       33.56902519, 35.03703887, 34.13907212, 33.69338819, 33.93872469,\n",
       "       35.01294649, 34.7431773 , 34.9066008 , 34.2528688 , 32.92039806,\n",
       "       35.49751042, 33.13913005, 33.91715599, 33.0254559 , 33.97885671,\n",
       "       34.1687652 , 35.6204693 , 34.42207696, 36.61570678, 33.43451971,\n",
       "       32.34551798, 34.68408798, 34.78775807, 35.28724521, 33.35255863,\n",
       "       34.84376987, 33.86382194, 34.49526906, 34.75273265, 33.42054429,\n",
       "       33.98504377, 35.53487498, 33.76159177, 34.12595991, 33.31581117,\n",
       "       32.22425954, 32.52242845, 33.5861041 , 34.74295684, 33.86373143,\n",
       "       34.4842329 , 33.27306471, 33.75159619, 34.90449041, 34.77596333,\n",
       "       34.34997963, 34.30109046, 33.3941344 , 33.85763061, 32.79466303,\n",
       "       33.48180135, 33.79798374, 34.37467835, 32.85097408, 34.03725901,\n",
       "       35.39481957, 32.29949222, 36.0296034 , 35.63242382, 34.52375134,\n",
       "       33.3758442 , 34.56549453, 33.81163956, 33.59386593, 32.87564418,\n",
       "       35.34286167, 32.86572727, 33.94562584, 32.83095456, 34.74315019,\n",
       "       34.91049894, 33.08544308, 35.06375738, 34.67705003, 32.68659048,\n",
       "       35.65523589, 34.08348779, 34.26425107, 33.79007448, 35.43664969,\n",
       "       34.79428122, 32.93140337, 33.48801806, 35.48887572, 34.60127577,\n",
       "       33.30233072, 35.37595403, 34.3835986 , 33.27416349, 34.58994997,\n",
       "       33.58647453, 33.08270938, 33.5257574 , 34.00901372, 32.48508677,\n",
       "       34.41730619, 32.82687624, 34.90605344, 34.39853826, 32.90590765,\n",
       "       33.71219417, 34.13478382, 31.72569233, 33.4058144 , 34.49681493,\n",
       "       36.16205582, 33.03659759, 33.47902454, 35.48573119, 34.93608725,\n",
       "       33.13156505, 34.66042887, 34.20429682, 33.20828305, 35.18680895,\n",
       "       36.67284026, 33.00555325, 34.5449519 , 33.89040807, 36.69841096,\n",
       "       31.70536127, 33.55926501, 34.18385711, 33.75465868, 35.42288703,\n",
       "       34.9021944 , 34.02085111, 35.55701195, 35.11944763, 35.31464191,\n",
       "       34.4034688 , 34.54393675, 33.15975998, 31.77194229, 33.10637455,\n",
       "       35.17819746, 33.22834219, 33.16154345, 33.98587413, 36.07735209,\n",
       "       34.45663447, 34.14160215, 33.45005256, 35.13429327, 34.79154247,\n",
       "       33.96460917, 33.80497861, 32.96181172, 34.44388096, 34.96066003,\n",
       "       33.56963655, 35.69677334, 34.57506774, 33.4749966 , 32.26812201])"
      ]
     },
     "execution_count": 108,
     "metadata": {},
     "output_type": "execute_result"
    }
   ],
   "source": [
    "#Creamos una tabla aletoria de datos\n",
    "data = np.random.normal(loc= 34, size = 1000) #loc sera el promedio de edades, y size es el tamaño de la muestra\n",
    "data"
   ]
  },
  {
   "cell_type": "code",
   "execution_count": 109,
   "id": "85ceba1b",
   "metadata": {},
   "outputs": [
    {
     "data": {
      "text/plain": [
       "34.00290445079015"
      ]
     },
     "execution_count": 109,
     "metadata": {},
     "output_type": "execute_result"
    }
   ],
   "source": [
    "data.mean()"
   ]
  },
  {
   "cell_type": "code",
   "execution_count": 110,
   "id": "e048095b",
   "metadata": {},
   "outputs": [],
   "source": [
    "#Iniciamos bootstrapping para calcular el promedio de edades\n",
    "\n",
    "promedio = []\n",
    "for i in range(40): #creamos 40 muestras\n",
    "    muestra = random.sample(data.tolist(), 5) #creamos grupos aleatorios de 5 \n",
    "    prom = np.mean(muestra) #buscamos la media de la muestra\n",
    "    promedio.append(prom)"
   ]
  },
  {
   "cell_type": "code",
   "execution_count": 111,
   "id": "7402d889",
   "metadata": {},
   "outputs": [
    {
     "data": {
      "text/plain": [
       "33.94495150434272"
      ]
     },
     "execution_count": 111,
     "metadata": {},
     "output_type": "execute_result"
    }
   ],
   "source": [
    "np.mean(promedio)"
   ]
  },
  {
   "cell_type": "markdown",
   "id": "2fbbc579",
   "metadata": {},
   "source": [
    "# Validación cruzada"
   ]
  },
  {
   "cell_type": "code",
   "execution_count": 112,
   "id": "f468b9c2",
   "metadata": {},
   "outputs": [
    {
     "data": {
      "text/html": [
       "<div>\n",
       "<style scoped>\n",
       "    .dataframe tbody tr th:only-of-type {\n",
       "        vertical-align: middle;\n",
       "    }\n",
       "\n",
       "    .dataframe tbody tr th {\n",
       "        vertical-align: top;\n",
       "    }\n",
       "\n",
       "    .dataframe thead th {\n",
       "        text-align: right;\n",
       "    }\n",
       "</style>\n",
       "<table border=\"1\" class=\"dataframe\">\n",
       "  <thead>\n",
       "    <tr style=\"text-align: right;\">\n",
       "      <th></th>\n",
       "      <th>id</th>\n",
       "      <th>diagnosis</th>\n",
       "      <th>radius_mean</th>\n",
       "      <th>texture_mean</th>\n",
       "      <th>perimeter_mean</th>\n",
       "      <th>area_mean</th>\n",
       "      <th>smoothness_mean</th>\n",
       "      <th>compactness_mean</th>\n",
       "      <th>concavity_mean</th>\n",
       "      <th>concave points_mean</th>\n",
       "      <th>...</th>\n",
       "      <th>radius_worst</th>\n",
       "      <th>texture_worst</th>\n",
       "      <th>perimeter_worst</th>\n",
       "      <th>area_worst</th>\n",
       "      <th>smoothness_worst</th>\n",
       "      <th>compactness_worst</th>\n",
       "      <th>concavity_worst</th>\n",
       "      <th>concave points_worst</th>\n",
       "      <th>symmetry_worst</th>\n",
       "      <th>fractal_dimension_worst</th>\n",
       "    </tr>\n",
       "  </thead>\n",
       "  <tbody>\n",
       "    <tr>\n",
       "      <th>0</th>\n",
       "      <td>842302</td>\n",
       "      <td>M</td>\n",
       "      <td>17.99</td>\n",
       "      <td>10.38</td>\n",
       "      <td>122.80</td>\n",
       "      <td>1001.0</td>\n",
       "      <td>0.11840</td>\n",
       "      <td>0.27760</td>\n",
       "      <td>0.3001</td>\n",
       "      <td>0.14710</td>\n",
       "      <td>...</td>\n",
       "      <td>25.38</td>\n",
       "      <td>17.33</td>\n",
       "      <td>184.60</td>\n",
       "      <td>2019.0</td>\n",
       "      <td>0.1622</td>\n",
       "      <td>0.6656</td>\n",
       "      <td>0.7119</td>\n",
       "      <td>0.2654</td>\n",
       "      <td>0.4601</td>\n",
       "      <td>0.11890</td>\n",
       "    </tr>\n",
       "    <tr>\n",
       "      <th>1</th>\n",
       "      <td>842517</td>\n",
       "      <td>M</td>\n",
       "      <td>20.57</td>\n",
       "      <td>17.77</td>\n",
       "      <td>132.90</td>\n",
       "      <td>1326.0</td>\n",
       "      <td>0.08474</td>\n",
       "      <td>0.07864</td>\n",
       "      <td>0.0869</td>\n",
       "      <td>0.07017</td>\n",
       "      <td>...</td>\n",
       "      <td>24.99</td>\n",
       "      <td>23.41</td>\n",
       "      <td>158.80</td>\n",
       "      <td>1956.0</td>\n",
       "      <td>0.1238</td>\n",
       "      <td>0.1866</td>\n",
       "      <td>0.2416</td>\n",
       "      <td>0.1860</td>\n",
       "      <td>0.2750</td>\n",
       "      <td>0.08902</td>\n",
       "    </tr>\n",
       "    <tr>\n",
       "      <th>2</th>\n",
       "      <td>84300903</td>\n",
       "      <td>M</td>\n",
       "      <td>19.69</td>\n",
       "      <td>21.25</td>\n",
       "      <td>130.00</td>\n",
       "      <td>1203.0</td>\n",
       "      <td>0.10960</td>\n",
       "      <td>0.15990</td>\n",
       "      <td>0.1974</td>\n",
       "      <td>0.12790</td>\n",
       "      <td>...</td>\n",
       "      <td>23.57</td>\n",
       "      <td>25.53</td>\n",
       "      <td>152.50</td>\n",
       "      <td>1709.0</td>\n",
       "      <td>0.1444</td>\n",
       "      <td>0.4245</td>\n",
       "      <td>0.4504</td>\n",
       "      <td>0.2430</td>\n",
       "      <td>0.3613</td>\n",
       "      <td>0.08758</td>\n",
       "    </tr>\n",
       "    <tr>\n",
       "      <th>3</th>\n",
       "      <td>84348301</td>\n",
       "      <td>M</td>\n",
       "      <td>11.42</td>\n",
       "      <td>20.38</td>\n",
       "      <td>77.58</td>\n",
       "      <td>386.1</td>\n",
       "      <td>0.14250</td>\n",
       "      <td>0.28390</td>\n",
       "      <td>0.2414</td>\n",
       "      <td>0.10520</td>\n",
       "      <td>...</td>\n",
       "      <td>14.91</td>\n",
       "      <td>26.50</td>\n",
       "      <td>98.87</td>\n",
       "      <td>567.7</td>\n",
       "      <td>0.2098</td>\n",
       "      <td>0.8663</td>\n",
       "      <td>0.6869</td>\n",
       "      <td>0.2575</td>\n",
       "      <td>0.6638</td>\n",
       "      <td>0.17300</td>\n",
       "    </tr>\n",
       "    <tr>\n",
       "      <th>4</th>\n",
       "      <td>84358402</td>\n",
       "      <td>M</td>\n",
       "      <td>20.29</td>\n",
       "      <td>14.34</td>\n",
       "      <td>135.10</td>\n",
       "      <td>1297.0</td>\n",
       "      <td>0.10030</td>\n",
       "      <td>0.13280</td>\n",
       "      <td>0.1980</td>\n",
       "      <td>0.10430</td>\n",
       "      <td>...</td>\n",
       "      <td>22.54</td>\n",
       "      <td>16.67</td>\n",
       "      <td>152.20</td>\n",
       "      <td>1575.0</td>\n",
       "      <td>0.1374</td>\n",
       "      <td>0.2050</td>\n",
       "      <td>0.4000</td>\n",
       "      <td>0.1625</td>\n",
       "      <td>0.2364</td>\n",
       "      <td>0.07678</td>\n",
       "    </tr>\n",
       "  </tbody>\n",
       "</table>\n",
       "<p>5 rows × 32 columns</p>\n",
       "</div>"
      ],
      "text/plain": [
       "         id diagnosis  radius_mean  texture_mean  perimeter_mean  area_mean  \\\n",
       "0    842302         M        17.99         10.38          122.80     1001.0   \n",
       "1    842517         M        20.57         17.77          132.90     1326.0   \n",
       "2  84300903         M        19.69         21.25          130.00     1203.0   \n",
       "3  84348301         M        11.42         20.38           77.58      386.1   \n",
       "4  84358402         M        20.29         14.34          135.10     1297.0   \n",
       "\n",
       "   smoothness_mean  compactness_mean  concavity_mean  concave points_mean  \\\n",
       "0          0.11840           0.27760          0.3001              0.14710   \n",
       "1          0.08474           0.07864          0.0869              0.07017   \n",
       "2          0.10960           0.15990          0.1974              0.12790   \n",
       "3          0.14250           0.28390          0.2414              0.10520   \n",
       "4          0.10030           0.13280          0.1980              0.10430   \n",
       "\n",
       "   ...  radius_worst  texture_worst  perimeter_worst  area_worst  \\\n",
       "0  ...         25.38          17.33           184.60      2019.0   \n",
       "1  ...         24.99          23.41           158.80      1956.0   \n",
       "2  ...         23.57          25.53           152.50      1709.0   \n",
       "3  ...         14.91          26.50            98.87       567.7   \n",
       "4  ...         22.54          16.67           152.20      1575.0   \n",
       "\n",
       "   smoothness_worst  compactness_worst  concavity_worst  concave points_worst  \\\n",
       "0            0.1622             0.6656           0.7119                0.2654   \n",
       "1            0.1238             0.1866           0.2416                0.1860   \n",
       "2            0.1444             0.4245           0.4504                0.2430   \n",
       "3            0.2098             0.8663           0.6869                0.2575   \n",
       "4            0.1374             0.2050           0.4000                0.1625   \n",
       "\n",
       "   symmetry_worst  fractal_dimension_worst  \n",
       "0          0.4601                  0.11890  \n",
       "1          0.2750                  0.08902  \n",
       "2          0.3613                  0.08758  \n",
       "3          0.6638                  0.17300  \n",
       "4          0.2364                  0.07678  \n",
       "\n",
       "[5 rows x 32 columns]"
      ]
     },
     "execution_count": 112,
     "metadata": {},
     "output_type": "execute_result"
    }
   ],
   "source": [
    "ds = pd.read_csv('cancerdata.csv')\n",
    "ds.head()"
   ]
  },
  {
   "cell_type": "code",
   "execution_count": 113,
   "id": "2d99efb2",
   "metadata": {},
   "outputs": [
    {
     "data": {
      "text/plain": [
       "id                         False\n",
       "diagnosis                  False\n",
       "radius_mean                False\n",
       "texture_mean               False\n",
       "perimeter_mean             False\n",
       "area_mean                  False\n",
       "smoothness_mean            False\n",
       "compactness_mean           False\n",
       "concavity_mean             False\n",
       "concave points_mean        False\n",
       "symmetry_mean              False\n",
       "fractal_dimension_mean     False\n",
       "radius_se                  False\n",
       "texture_se                 False\n",
       "perimeter_se               False\n",
       "area_se                    False\n",
       "smoothness_se              False\n",
       "compactness_se             False\n",
       "concavity_se               False\n",
       "concave points_se          False\n",
       "symmetry_se                False\n",
       "fractal_dimension_se       False\n",
       "radius_worst               False\n",
       "texture_worst              False\n",
       "perimeter_worst            False\n",
       "area_worst                 False\n",
       "smoothness_worst           False\n",
       "compactness_worst          False\n",
       "concavity_worst            False\n",
       "concave points_worst       False\n",
       "symmetry_worst             False\n",
       "fractal_dimension_worst    False\n",
       "dtype: bool"
      ]
     },
     "execution_count": 113,
     "metadata": {},
     "output_type": "execute_result"
    }
   ],
   "source": [
    "ds.isnull().any()\n",
    "#Con isnull busco si alguna columna tiene datos NaN, asi puedo corregir esos dato para no tener errores al hacer la validacion cruzada\n",
    "#La ultima columna todos sus datos son NaN"
   ]
  },
  {
   "cell_type": "code",
   "execution_count": 114,
   "id": "be8a5b2c",
   "metadata": {},
   "outputs": [],
   "source": [
    "X = ds.iloc[:, 2:32] #la ultima columna del data set es NaN por lo que no la cuento para la validacion cruzada\n",
    "\n",
    "Y = ds.iloc[:,1] #Señalamos donde esta la variable categorica, es en la columna 1"
   ]
  },
  {
   "cell_type": "code",
   "execution_count": 115,
   "id": "bd63e975",
   "metadata": {},
   "outputs": [
    {
     "data": {
      "text/html": [
       "<div>\n",
       "<style scoped>\n",
       "    .dataframe tbody tr th:only-of-type {\n",
       "        vertical-align: middle;\n",
       "    }\n",
       "\n",
       "    .dataframe tbody tr th {\n",
       "        vertical-align: top;\n",
       "    }\n",
       "\n",
       "    .dataframe thead th {\n",
       "        text-align: right;\n",
       "    }\n",
       "</style>\n",
       "<table border=\"1\" class=\"dataframe\">\n",
       "  <thead>\n",
       "    <tr style=\"text-align: right;\">\n",
       "      <th></th>\n",
       "      <th>radius_mean</th>\n",
       "      <th>texture_mean</th>\n",
       "      <th>perimeter_mean</th>\n",
       "      <th>area_mean</th>\n",
       "      <th>smoothness_mean</th>\n",
       "      <th>compactness_mean</th>\n",
       "      <th>concavity_mean</th>\n",
       "      <th>concave points_mean</th>\n",
       "      <th>symmetry_mean</th>\n",
       "      <th>fractal_dimension_mean</th>\n",
       "      <th>...</th>\n",
       "      <th>radius_worst</th>\n",
       "      <th>texture_worst</th>\n",
       "      <th>perimeter_worst</th>\n",
       "      <th>area_worst</th>\n",
       "      <th>smoothness_worst</th>\n",
       "      <th>compactness_worst</th>\n",
       "      <th>concavity_worst</th>\n",
       "      <th>concave points_worst</th>\n",
       "      <th>symmetry_worst</th>\n",
       "      <th>fractal_dimension_worst</th>\n",
       "    </tr>\n",
       "  </thead>\n",
       "  <tbody>\n",
       "    <tr>\n",
       "      <th>0</th>\n",
       "      <td>17.99</td>\n",
       "      <td>10.38</td>\n",
       "      <td>122.80</td>\n",
       "      <td>1001.0</td>\n",
       "      <td>0.11840</td>\n",
       "      <td>0.27760</td>\n",
       "      <td>0.3001</td>\n",
       "      <td>0.14710</td>\n",
       "      <td>0.2419</td>\n",
       "      <td>0.07871</td>\n",
       "      <td>...</td>\n",
       "      <td>25.38</td>\n",
       "      <td>17.33</td>\n",
       "      <td>184.60</td>\n",
       "      <td>2019.0</td>\n",
       "      <td>0.1622</td>\n",
       "      <td>0.6656</td>\n",
       "      <td>0.7119</td>\n",
       "      <td>0.2654</td>\n",
       "      <td>0.4601</td>\n",
       "      <td>0.11890</td>\n",
       "    </tr>\n",
       "    <tr>\n",
       "      <th>1</th>\n",
       "      <td>20.57</td>\n",
       "      <td>17.77</td>\n",
       "      <td>132.90</td>\n",
       "      <td>1326.0</td>\n",
       "      <td>0.08474</td>\n",
       "      <td>0.07864</td>\n",
       "      <td>0.0869</td>\n",
       "      <td>0.07017</td>\n",
       "      <td>0.1812</td>\n",
       "      <td>0.05667</td>\n",
       "      <td>...</td>\n",
       "      <td>24.99</td>\n",
       "      <td>23.41</td>\n",
       "      <td>158.80</td>\n",
       "      <td>1956.0</td>\n",
       "      <td>0.1238</td>\n",
       "      <td>0.1866</td>\n",
       "      <td>0.2416</td>\n",
       "      <td>0.1860</td>\n",
       "      <td>0.2750</td>\n",
       "      <td>0.08902</td>\n",
       "    </tr>\n",
       "    <tr>\n",
       "      <th>2</th>\n",
       "      <td>19.69</td>\n",
       "      <td>21.25</td>\n",
       "      <td>130.00</td>\n",
       "      <td>1203.0</td>\n",
       "      <td>0.10960</td>\n",
       "      <td>0.15990</td>\n",
       "      <td>0.1974</td>\n",
       "      <td>0.12790</td>\n",
       "      <td>0.2069</td>\n",
       "      <td>0.05999</td>\n",
       "      <td>...</td>\n",
       "      <td>23.57</td>\n",
       "      <td>25.53</td>\n",
       "      <td>152.50</td>\n",
       "      <td>1709.0</td>\n",
       "      <td>0.1444</td>\n",
       "      <td>0.4245</td>\n",
       "      <td>0.4504</td>\n",
       "      <td>0.2430</td>\n",
       "      <td>0.3613</td>\n",
       "      <td>0.08758</td>\n",
       "    </tr>\n",
       "    <tr>\n",
       "      <th>3</th>\n",
       "      <td>11.42</td>\n",
       "      <td>20.38</td>\n",
       "      <td>77.58</td>\n",
       "      <td>386.1</td>\n",
       "      <td>0.14250</td>\n",
       "      <td>0.28390</td>\n",
       "      <td>0.2414</td>\n",
       "      <td>0.10520</td>\n",
       "      <td>0.2597</td>\n",
       "      <td>0.09744</td>\n",
       "      <td>...</td>\n",
       "      <td>14.91</td>\n",
       "      <td>26.50</td>\n",
       "      <td>98.87</td>\n",
       "      <td>567.7</td>\n",
       "      <td>0.2098</td>\n",
       "      <td>0.8663</td>\n",
       "      <td>0.6869</td>\n",
       "      <td>0.2575</td>\n",
       "      <td>0.6638</td>\n",
       "      <td>0.17300</td>\n",
       "    </tr>\n",
       "    <tr>\n",
       "      <th>4</th>\n",
       "      <td>20.29</td>\n",
       "      <td>14.34</td>\n",
       "      <td>135.10</td>\n",
       "      <td>1297.0</td>\n",
       "      <td>0.10030</td>\n",
       "      <td>0.13280</td>\n",
       "      <td>0.1980</td>\n",
       "      <td>0.10430</td>\n",
       "      <td>0.1809</td>\n",
       "      <td>0.05883</td>\n",
       "      <td>...</td>\n",
       "      <td>22.54</td>\n",
       "      <td>16.67</td>\n",
       "      <td>152.20</td>\n",
       "      <td>1575.0</td>\n",
       "      <td>0.1374</td>\n",
       "      <td>0.2050</td>\n",
       "      <td>0.4000</td>\n",
       "      <td>0.1625</td>\n",
       "      <td>0.2364</td>\n",
       "      <td>0.07678</td>\n",
       "    </tr>\n",
       "  </tbody>\n",
       "</table>\n",
       "<p>5 rows × 30 columns</p>\n",
       "</div>"
      ],
      "text/plain": [
       "   radius_mean  texture_mean  perimeter_mean  area_mean  smoothness_mean  \\\n",
       "0        17.99         10.38          122.80     1001.0          0.11840   \n",
       "1        20.57         17.77          132.90     1326.0          0.08474   \n",
       "2        19.69         21.25          130.00     1203.0          0.10960   \n",
       "3        11.42         20.38           77.58      386.1          0.14250   \n",
       "4        20.29         14.34          135.10     1297.0          0.10030   \n",
       "\n",
       "   compactness_mean  concavity_mean  concave points_mean  symmetry_mean  \\\n",
       "0           0.27760          0.3001              0.14710         0.2419   \n",
       "1           0.07864          0.0869              0.07017         0.1812   \n",
       "2           0.15990          0.1974              0.12790         0.2069   \n",
       "3           0.28390          0.2414              0.10520         0.2597   \n",
       "4           0.13280          0.1980              0.10430         0.1809   \n",
       "\n",
       "   fractal_dimension_mean  ...  radius_worst  texture_worst  perimeter_worst  \\\n",
       "0                 0.07871  ...         25.38          17.33           184.60   \n",
       "1                 0.05667  ...         24.99          23.41           158.80   \n",
       "2                 0.05999  ...         23.57          25.53           152.50   \n",
       "3                 0.09744  ...         14.91          26.50            98.87   \n",
       "4                 0.05883  ...         22.54          16.67           152.20   \n",
       "\n",
       "   area_worst  smoothness_worst  compactness_worst  concavity_worst  \\\n",
       "0      2019.0            0.1622             0.6656           0.7119   \n",
       "1      1956.0            0.1238             0.1866           0.2416   \n",
       "2      1709.0            0.1444             0.4245           0.4504   \n",
       "3       567.7            0.2098             0.8663           0.6869   \n",
       "4      1575.0            0.1374             0.2050           0.4000   \n",
       "\n",
       "   concave points_worst  symmetry_worst  fractal_dimension_worst  \n",
       "0                0.2654          0.4601                  0.11890  \n",
       "1                0.1860          0.2750                  0.08902  \n",
       "2                0.2430          0.3613                  0.08758  \n",
       "3                0.2575          0.6638                  0.17300  \n",
       "4                0.1625          0.2364                  0.07678  \n",
       "\n",
       "[5 rows x 30 columns]"
      ]
     },
     "execution_count": 115,
     "metadata": {},
     "output_type": "execute_result"
    }
   ],
   "source": [
    "X.head()"
   ]
  },
  {
   "cell_type": "code",
   "execution_count": 116,
   "id": "009ac7d1",
   "metadata": {},
   "outputs": [
    {
     "data": {
      "text/plain": [
       "B    357\n",
       "M    212\n",
       "Name: diagnosis, dtype: int64"
      ]
     },
     "execution_count": 116,
     "metadata": {},
     "output_type": "execute_result"
    }
   ],
   "source": [
    "Y.value_counts() #para ver la distrbucion entre maligno y benigno"
   ]
  },
  {
   "cell_type": "code",
   "execution_count": 117,
   "id": "f89851ff",
   "metadata": {},
   "outputs": [
    {
     "name": "stdout",
     "output_type": "stream",
     "text": [
      "0.9005847953216374\n"
     ]
    }
   ],
   "source": [
    "from sklearn.tree import DecisionTreeClassifier\n",
    "from sklearn.model_selection import train_test_split #libreria para diferenciar el modelo training y el de test\n",
    "\n",
    "train_X, test_X, train_Y, test_Y = train_test_split(X, Y, test_size=0.30, random_state=4) \n",
    "#Random state define el nivel de precision \n",
    "\n",
    "model = DecisionTreeClassifier()\n",
    "model.fit(train_X, train_Y)\n",
    "resultado = model.score(test_X,test_Y) #Nos indica la precision del modelo en porcentaje\n",
    "print(resultado)"
   ]
  },
  {
   "cell_type": "code",
   "execution_count": 118,
   "id": "fabc5d29",
   "metadata": {},
   "outputs": [
    {
     "name": "stdout",
     "output_type": "stream",
     "text": [
      "0.935672514619883\n"
     ]
    }
   ],
   "source": [
    "from sklearn.ensemble import RandomForestClassifier\n",
    "modelo = RandomForestClassifier()\n",
    "modelo.fit(train_X, train_Y)\n",
    "resultado = modelo.score(test_X, test_Y)\n",
    "print(resultado)"
   ]
  },
  {
   "cell_type": "code",
   "execution_count": 119,
   "id": "dc4bbc58",
   "metadata": {},
   "outputs": [],
   "source": [
    "#Validacion cruzada k fold\n",
    "from sklearn.model_selection import KFold\n",
    "\n",
    "model = DecisionTreeClassifier()\n",
    "kfold_validacion =KFold(10) #10 observaciones que vamos a usar"
   ]
  },
  {
   "cell_type": "code",
   "execution_count": 120,
   "id": "1a8a4c56",
   "metadata": {},
   "outputs": [
    {
     "name": "stdout",
     "output_type": "stream",
     "text": [
      "[0.9122807  0.9122807  0.85964912 0.96491228 0.9122807  0.96491228\n",
      " 0.89473684 0.92982456 0.96491228 0.91071429]\n"
     ]
    },
    {
     "data": {
      "text/plain": [
       "0.9226503759398497"
      ]
     },
     "execution_count": 120,
     "metadata": {},
     "output_type": "execute_result"
    }
   ],
   "source": [
    "from sklearn.model_selection import cross_val_score\n",
    "\n",
    "resultados = cross_val_score(model, X, Y, cv = kfold_validacion)\n",
    "print(resultados) \n",
    "resultados.mean() #Muestra el promedio de presicion "
   ]
  },
  {
   "cell_type": "markdown",
   "id": "d941a5ff",
   "metadata": {},
   "source": [
    "# Clases desbalanceadas"
   ]
  },
  {
   "cell_type": "markdown",
   "id": "cd463e5f",
   "metadata": {},
   "source": [
    "PASO 1: Vemos como se distribuyen las clases"
   ]
  },
  {
   "cell_type": "code",
   "execution_count": 121,
   "id": "9e3c63d6",
   "metadata": {},
   "outputs": [
    {
     "data": {
      "text/plain": [
       "diagnosis\n",
       "B    357\n",
       "M    212\n",
       "dtype: int64"
      ]
     },
     "execution_count": 121,
     "metadata": {},
     "output_type": "execute_result"
    }
   ],
   "source": [
    "ds.groupby(\"diagnosis\").size()"
   ]
  },
  {
   "cell_type": "code",
   "execution_count": 122,
   "id": "3232a07b",
   "metadata": {},
   "outputs": [
    {
     "data": {
      "text/plain": [
       "62.741652021089635"
      ]
     },
     "execution_count": 122,
     "metadata": {},
     "output_type": "execute_result"
    }
   ],
   "source": [
    "(ds.groupby(\"diagnosis\").size()[0]/ds.shape[0])*100"
   ]
  },
  {
   "cell_type": "code",
   "execution_count": 123,
   "id": "15c76f2b",
   "metadata": {},
   "outputs": [
    {
     "data": {
      "text/plain": [
       "37.258347978910365"
      ]
     },
     "execution_count": 123,
     "metadata": {},
     "output_type": "execute_result"
    }
   ],
   "source": [
    "(ds.groupby(\"diagnosis\").size()[1]/ds.shape[0])*100"
   ]
  },
  {
   "cell_type": "markdown",
   "id": "b05cefff",
   "metadata": {},
   "source": [
    "PASO 2: Determinamos el verdadero score"
   ]
  },
  {
   "cell_type": "code",
   "execution_count": 124,
   "id": "b6964cf3",
   "metadata": {},
   "outputs": [
    {
     "name": "stdout",
     "output_type": "stream",
     "text": [
      "Verdadero resultado 77.02 %\n"
     ]
    }
   ],
   "source": [
    "from sklearn.metrics import cohen_kappa_score\n",
    "\n",
    "X_train, X_test, Y_train, Y_test = train_test_split(X,Y,test_size=0.3,random_state=4)\n",
    "model = DecisionTreeClassifier()\n",
    "model.fit(X_train, Y_train)\n",
    "prediction = model.predict(X_test)\n",
    "cohen = cohen_kappa_score(prediction, Y_test)\n",
    "print(\"Verdadero resultado\", np.round(cohen*100, 2), \"%\")"
   ]
  },
  {
   "cell_type": "markdown",
   "id": "71df4e0f",
   "metadata": {},
   "source": [
    "PASO 3: Solucionamos el problema del desbalanceo usando la libreria imblearn. Con esta librería sobremuestreamos la clase con menor proporción y submuestreamos la clase con más proporción tratando de que tengan el mismo porcentaje de datos."
   ]
  },
  {
   "cell_type": "code",
   "execution_count": 125,
   "id": "c42dd23e",
   "metadata": {},
   "outputs": [
    {
     "name": "stdout",
     "output_type": "stream",
     "text": [
      "Requirement already satisfied: imbalanced-learn in c:\\users\\gnobl\\anaconda3\\lib\\site-packages (0.10.0)\n",
      "Requirement already satisfied: joblib>=1.1.1 in c:\\users\\gnobl\\anaconda3\\lib\\site-packages (from imbalanced-learn) (1.2.0)\n",
      "Requirement already satisfied: threadpoolctl>=2.0.0 in c:\\users\\gnobl\\anaconda3\\lib\\site-packages (from imbalanced-learn) (2.2.0)\n",
      "Requirement already satisfied: numpy>=1.17.3 in c:\\users\\gnobl\\anaconda3\\lib\\site-packages (from imbalanced-learn) (1.21.5)\n",
      "Requirement already satisfied: scipy>=1.3.2 in c:\\users\\gnobl\\anaconda3\\lib\\site-packages (from imbalanced-learn) (1.7.3)\n",
      "Requirement already satisfied: scikit-learn>=1.0.2 in c:\\users\\gnobl\\anaconda3\\lib\\site-packages (from imbalanced-learn) (1.0.2)\n"
     ]
    }
   ],
   "source": [
    "!pip install imbalanced-learn"
   ]
  },
  {
   "cell_type": "code",
   "execution_count": 126,
   "id": "62ed9330",
   "metadata": {},
   "outputs": [
    {
     "name": "stdout",
     "output_type": "stream",
     "text": [
      "diagnosis\n",
      "B    357\n",
      "M    212\n",
      "dtype: int64\n",
      "diagnosis\n",
      "B    320\n",
      "M    294\n",
      "dtype: int64\n"
     ]
    }
   ],
   "source": [
    "from imblearn.combine import SMOTEENN\n",
    "\n",
    "print(ds.groupby(\"diagnosis\").size())\n",
    "# Estrategia de submuestreo\n",
    "sample = SMOTEENN(sampling_strategy = 0.95)\n",
    "# Ajustar y aplicar la transformación\n",
    "X_bal, Y_bal = sample.fit_resample(X, Y)\n",
    "# Resultados\n",
    "print(pd.DataFrame(Y_bal).groupby(\"diagnosis\").size())"
   ]
  },
  {
   "cell_type": "markdown",
   "id": "82686bed",
   "metadata": {},
   "source": [
    "PASO 4: Hallamos el score con las nuevas bases de datos creadas, en este ejemplo son X_bal y Y_bal"
   ]
  },
  {
   "cell_type": "code",
   "execution_count": 127,
   "id": "e0e95423",
   "metadata": {},
   "outputs": [
    {
     "data": {
      "text/plain": [
       "52.11726384364821"
      ]
     },
     "execution_count": 127,
     "metadata": {},
     "output_type": "execute_result"
    }
   ],
   "source": [
    "(pd.DataFrame(Y_bal).groupby(\"diagnosis\").size()[0]/Y_bal.shape[0])*100"
   ]
  },
  {
   "cell_type": "code",
   "execution_count": 128,
   "id": "d58f035c",
   "metadata": {},
   "outputs": [
    {
     "data": {
      "text/plain": [
       "47.88273615635179"
      ]
     },
     "execution_count": 128,
     "metadata": {},
     "output_type": "execute_result"
    }
   ],
   "source": [
    "(pd.DataFrame(Y_bal).groupby(\"diagnosis\").size()[1]/Y_bal.shape[0])*100"
   ]
  },
  {
   "cell_type": "code",
   "execution_count": 129,
   "id": "31c4606c",
   "metadata": {},
   "outputs": [
    {
     "name": "stdout",
     "output_type": "stream",
     "text": [
      "Resultado usando imblearn 89.16 %\n"
     ]
    }
   ],
   "source": [
    "X_train, X_test, Y_train, Y_test = train_test_split(X_bal,pd.DataFrame(Y_bal),test_size=0.3,random_state=4)\n",
    "model = DecisionTreeClassifier()\n",
    "model.fit(X_train, Y_train)\n",
    "prediction = model.predict(X_test)\n",
    "cohen = cohen_kappa_score(prediction, Y_test)\n",
    "print(\"Resultado usando imblearn\", np.round(cohen*100, 2), \"%\")"
   ]
  },
  {
   "cell_type": "code",
   "execution_count": 130,
   "id": "af92473a",
   "metadata": {},
   "outputs": [
    {
     "name": "stdout",
     "output_type": "stream",
     "text": [
      "[0.9516129  0.96774194 0.96774194 0.96774194 0.98360656 0.98360656\n",
      " 0.98360656 0.96721311 0.96721311 0.98360656]\n",
      "====================\n",
      "0.9723691168693813\n"
     ]
    }
   ],
   "source": [
    "# Validación cruzada con las clases correctamente balanceadas\n",
    "\n",
    "from sklearn.model_selection import cross_val_score\n",
    "\n",
    "k_fold=KFold(10)\n",
    "\n",
    "resultados = cross_val_score(model, X_bal, pd.DataFrame(Y_bal), cv=k_fold)\n",
    "\n",
    "print(resultados)\n",
    "print(\"=\"*20)\n",
    "print(resultados.mean())"
   ]
  }
 ],
 "metadata": {
  "kernelspec": {
   "display_name": "Python 3 (ipykernel)",
   "language": "python",
   "name": "python3"
  },
  "language_info": {
   "codemirror_mode": {
    "name": "ipython",
    "version": 3
   },
   "file_extension": ".py",
   "mimetype": "text/x-python",
   "name": "python",
   "nbconvert_exporter": "python",
   "pygments_lexer": "ipython3",
   "version": "3.9.12"
  }
 },
 "nbformat": 4,
 "nbformat_minor": 5
}
